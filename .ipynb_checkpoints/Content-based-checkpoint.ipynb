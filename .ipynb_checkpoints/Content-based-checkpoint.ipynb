{
 "cells": [
  {
   "cell_type": "markdown",
   "id": "665710c9",
   "metadata": {},
   "source": [
    "# Restaurant Recommendation System_\n",
    "## Prepare import"
   ]
  },
  {
   "cell_type": "code",
   "execution_count": 101,
   "id": "5be39798",
   "metadata": {},
   "outputs": [],
   "source": [
    "import numpy as np\n",
    "import pandas as pd\n",
    "from sklearn.metrics.pairwise import cosine_similarity\n",
    "from sklearn.metrics.pairwise import linear_kernel\n",
    "import matplotlib.pyplot as plt\n",
    "import warnings\n",
    "warnings.filterwarnings(\"ignore\")"
   ]
  },
  {
   "cell_type": "markdown",
   "id": "1d94755c",
   "metadata": {},
   "source": [
    "## Load Data\n",
    "### GoogleReview\n",
    "#### View Sample, Check Null Data For Review"
   ]
  },
  {
   "cell_type": "code",
   "execution_count": 102,
   "id": "4e8c1943",
   "metadata": {
    "scrolled": true
   },
   "outputs": [
    {
     "name": "stdout",
     "output_type": "stream",
     "text": [
      "Review data: (222020, 5)\n",
      "\n",
      "Check NULL values in Reviews:\n",
      "-----------------------------\n",
      "Author        0\n",
      "Rating        0\n",
      "Review        0\n",
      "Restaurant    0\n",
      "Location      0\n",
      "dtype: int64\n",
      "-----------------------------\n"
     ]
    },
    {
     "data": {
      "text/html": [
       "<div>\n",
       "<style scoped>\n",
       "    .dataframe tbody tr th:only-of-type {\n",
       "        vertical-align: middle;\n",
       "    }\n",
       "\n",
       "    .dataframe tbody tr th {\n",
       "        vertical-align: top;\n",
       "    }\n",
       "\n",
       "    .dataframe thead th {\n",
       "        text-align: right;\n",
       "    }\n",
       "</style>\n",
       "<table border=\"1\" class=\"dataframe\">\n",
       "  <thead>\n",
       "    <tr style=\"text-align: right;\">\n",
       "      <th></th>\n",
       "      <th>Author</th>\n",
       "      <th>Rating</th>\n",
       "      <th>Review</th>\n",
       "      <th>Restaurant</th>\n",
       "      <th>Location</th>\n",
       "    </tr>\n",
       "  </thead>\n",
       "  <tbody>\n",
       "    <tr>\n",
       "      <th>0</th>\n",
       "      <td>Jia Pin Lee</td>\n",
       "      <td>4.0</td>\n",
       "      <td>Came here for the High Tea. Great service espe...</td>\n",
       "      <td>Cuisines Restaurant</td>\n",
       "      <td>Ipoh</td>\n",
       "    </tr>\n",
       "    <tr>\n",
       "      <th>1</th>\n",
       "      <td>Chui Yi Lum</td>\n",
       "      <td>2.0</td>\n",
       "      <td>5 stars for the service, even though some of t...</td>\n",
       "      <td>Cuisines Restaurant</td>\n",
       "      <td>Ipoh</td>\n",
       "    </tr>\n",
       "    <tr>\n",
       "      <th>2</th>\n",
       "      <td>liezel wong</td>\n",
       "      <td>1.0</td>\n",
       "      <td>Hi, thank you for your service. But! i feel so...</td>\n",
       "      <td>Cuisines Restaurant</td>\n",
       "      <td>Ipoh</td>\n",
       "    </tr>\n",
       "    <tr>\n",
       "      <th>3</th>\n",
       "      <td>Nazri Nor</td>\n",
       "      <td>1.0</td>\n",
       "      <td>I have the worse buffer dinner ever so far. Th...</td>\n",
       "      <td>Cuisines Restaurant</td>\n",
       "      <td>Ipoh</td>\n",
       "    </tr>\n",
       "    <tr>\n",
       "      <th>4</th>\n",
       "      <td>Fakru Imran's Channel</td>\n",
       "      <td>5.0</td>\n",
       "      <td>That's are Known 5 Elmark \" 9H72 \" &amp; KDK \" 3 K...</td>\n",
       "      <td>Cuisines Restaurant</td>\n",
       "      <td>Ipoh</td>\n",
       "    </tr>\n",
       "  </tbody>\n",
       "</table>\n",
       "</div>"
      ],
      "text/plain": [
       "                  Author  Rating  \\\n",
       "0            Jia Pin Lee     4.0   \n",
       "1            Chui Yi Lum     2.0   \n",
       "2            liezel wong     1.0   \n",
       "3              Nazri Nor     1.0   \n",
       "4  Fakru Imran's Channel     5.0   \n",
       "\n",
       "                                              Review           Restaurant  \\\n",
       "0  Came here for the High Tea. Great service espe...  Cuisines Restaurant   \n",
       "1  5 stars for the service, even though some of t...  Cuisines Restaurant   \n",
       "2  Hi, thank you for your service. But! i feel so...  Cuisines Restaurant   \n",
       "3  I have the worse buffer dinner ever so far. Th...  Cuisines Restaurant   \n",
       "4  That's are Known 5 Elmark \" 9H72 \" & KDK \" 3 K...  Cuisines Restaurant   \n",
       "\n",
       "  Location  \n",
       "0     Ipoh  \n",
       "1     Ipoh  \n",
       "2     Ipoh  \n",
       "3     Ipoh  \n",
       "4     Ipoh  "
      ]
     },
     "execution_count": 102,
     "metadata": {},
     "output_type": "execute_result"
    }
   ],
   "source": [
    "restaurants_review_data = pd.read_csv('GoogleReview_data_cleaned.csv', low_memory = False)\n",
    "print(\"Review data:\", restaurants_review_data.shape)\n",
    "print(\"\\nCheck NULL values in Reviews:\\n-----------------------------\")\n",
    "print(restaurants_review_data.isnull().sum())\n",
    "print(\"-----------------------------\")\n",
    "restaurants_review_data.head()"
   ]
  },
  {
   "cell_type": "markdown",
   "id": "2fb941e0",
   "metadata": {},
   "source": [
    "## Data Preprocessing"
   ]
  },
  {
   "cell_type": "code",
   "execution_count": 103,
   "id": "d61f2b0b",
   "metadata": {},
   "outputs": [
    {
     "data": {
      "text/plain": [
       "(1321, 5)"
      ]
     },
     "execution_count": 103,
     "metadata": {},
     "output_type": "execute_result"
    }
   ],
   "source": [
    "# Consider only those author who have rated more than 10 restaurants and those restaurant which are having at least 20 ratings\n",
    "x = restaurants_review_data.groupby('Author').count()['Rating'] > 10\n",
    "quality_author  = x[x].index\n",
    "\n",
    "restaurants_review_data = restaurants_review_data[restaurants_review_data['Author'].isin(quality_author)]\n",
    "\n",
    "y = restaurants_review_data.groupby('Restaurant')['Rating'].count() >= 20\n",
    "famous_restaurants = y[y].index\n",
    "\n",
    "restaurants_review_data = restaurants_review_data[restaurants_review_data['Restaurant'].isin(famous_restaurants)]\n",
    "\n",
    "# due to we filter out the author who only have rated more than 10 restaurants and those restaurant which \n",
    "restaurants_review_data = restaurants_review_data.reset_index()\n",
    "# drop index column, axis = 0 indicates rows, 1 indicates columns\n",
    "restaurants_review_data = restaurants_review_data.drop(['index'], axis=1)\n",
    "restaurants_review_data.shape\n",
    "\n",
    "# Get the restaurants in this dataset without duplicates\n",
    "restaurants_data = restaurants_review_data.drop_duplicates(subset=['Restaurant'])\n",
    "# no. of restaurants = 420\n",
    "restaurants_data = restaurants_data.reset_index() \n",
    "\n",
    "# print()\n",
    "\n",
    "# Get the authors in this dataset without duplicates\n",
    "authors_data = restaurants_review_data.drop_duplicates(subset=['Author'])\n",
    "# No. of authors in this dataset = 253\n",
    "authors_data.shape\n"
   ]
  },
  {
   "cell_type": "markdown",
   "id": "b65fb0dc",
   "metadata": {},
   "source": [
    "## Data Visualization"
   ]
  },
  {
   "cell_type": "code",
   "execution_count": 104,
   "id": "f4227766",
   "metadata": {},
   "outputs": [
    {
     "data": {
      "image/png": "[encoded data removed]",
      "text/plain": [
       "<Figure size 800x600 with 1 Axes>"
      ]
     },
     "metadata": {},
     "output_type": "display_data"
    }
   ],
   "source": [
    "state_counts = restaurants_data.groupby('Location')['Restaurant'].count()\n",
    "state_counts.plot(kind='bar', figsize = (8, 6))\n",
    "plt.title('Number of Restaurant(s) by City')\n",
    "plt.xlabel('City')\n",
    "plt.ylabel('Number of Restaurants(s)')\n",
    "plt.show()"
   ]
  },
  {
   "cell_type": "code",
   "execution_count": 105,
   "id": "6152279f",
   "metadata": {},
   "outputs": [],
   "source": [
    "# use pivot_table because in our datasets, a restaurant have multiple ratings, so we cannot just calculate similarity scores based on the restaurants_review_data\n",
    "pt = restaurants_review_data.pivot_table(index = 'Restaurant', columns = 'Author', values = 'Rating').fillna(0)\n",
    "\n",
    "# index = 'Restaurant' columns = 'Author' --> this is the average rating given to each restaurant by the authors\n",
    "# index = 'Author' columns = 'Restaurant' --> this is the average rating given by the authors to each restaurant (the average rating of an author given to all restaurants)"
   ]
  },
  {
   "cell_type": "code",
   "execution_count": 106,
   "id": "dab3d6bb",
   "metadata": {},
   "outputs": [],
   "source": [
    "# Using cosine similarity metrics\n",
    "similarity_scores_cs = cosine_similarity(pt)\n",
    "\n",
    "def recommendByCos(restaurantName):\n",
    "    index = np.where(pt.index == restaurantName)[0][0]\n",
    "    similar_restaurants = sorted(enumerate(similarity_scores_cs[index]),key= lambda x: x[1], reverse =True)[1:6]\n",
    "    \n",
    "    for i in similar_restaurants:\n",
    "        print(pt.index[i[0]])\n",
    "    return similar_restaurants"
   ]
  },
  {
   "cell_type": "code",
   "execution_count": 135,
   "id": "1b6114b9",
   "metadata": {},
   "outputs": [],
   "source": [
    "similarity_scores_lk = linear_kernel(pt)\n",
    "\n",
    "def recommendByLin(restaurantName, isFilter):\n",
    "    index = np.where(pt.index== restaurantName)[0][0]\n",
    "    similar_restaurants = sorted(enumerate(similarity_scores_lk[index]), key = lambda x: x[1], reverse = True)[1:]\n",
    "    \n",
    "    newData = restaurants_data.copy()\n",
    "    newData['Score'] = np.nan\n",
    "    \n",
    "    for a, i n enumerate(similar_restaurants):\n",
    "        newData.loc[newData['Restaurant'] == pt.index[i[0]], 'Score'] = similar_restaurants[a][1]\n",
    "#     indices = list()\n",
    "#     newData = pd.DataFrame(columns = ['Author', 'Rating', 'Review', 'Restaurant', 'Location'])\n",
    "#     a = 0\n",
    "#     newData = restaurants_data.copy()\n",
    "#     newData['Score'] = np.nan\n",
    "#     for i in similar_restaurants:\n",
    "# #         newData = newData.append(restaurants_data[restaurants_data['Restaurant'] == pt.index[i[0]]])\n",
    "#         for j in range(len(restaurants_data)):\n",
    "#             if pt.index[i[0]] == restaurants_data.loc[j]['Restaurant']:\n",
    "#                 newData.loc[j, 'Score'] = similar_restaurants[a][1]\n",
    "#         a += 1\n",
    "#         indices.append(pt.index[i[0]])\n",
    "\n",
    "\n",
    "#     newData = newData.sort_values('Score', ascending = False)\n",
    "#     if isFilter:\n",
    "#         newData = newData[newData['Location'] == cityToFilter]\n",
    "#         print(newData[:5])\n",
    "    \n",
    "#     return indices\n",
    "    "
   ]
  },
  {
   "cell_type": "code",
   "execution_count": 136,
   "id": "c61f0ed5",
   "metadata": {},
   "outputs": [],
   "source": [
    "# # A function for retrieving the restaurant info from the restaurants_data dataframe\n",
    "# def retrieveRestaurant(dataframe):\n",
    "#     recommendedRestaurant = dataframe\n",
    "#     restaurants = pd.DataFrame(columns=['Author', 'Rating', 'Review', 'Restaurant', 'Location'])\n",
    "#     for i in range(len(recommendedRestaurant)):\n",
    "#         restaurants = restaurants.append(restaurants_data[restaurants_data['Restaurant'] == recommendedRestaurant[i]], ignore_index = True)\n",
    "#     return restaurants"
   ]
  },
  {
   "cell_type": "code",
   "execution_count": 137,
   "id": "1b7c938c",
   "metadata": {
    "scrolled": true
   },
   "outputs": [],
   "source": [
    "# print(\"Recommend Using Cosine Similarity\")\n",
    "# restaurantName = recommendByCos('Dancing Fish')"
   ]
  },
  {
   "cell_type": "code",
   "execution_count": 140,
   "id": "bbaf3c35",
   "metadata": {},
   "outputs": [
    {
     "name": "stdout",
     "output_type": "stream",
     "text": [
      "Recommend Using Linear Kernel\n",
      "Enter a restaurant name: Dancing Fish\n",
      "Empty DataFrame\n",
      "Columns: [index, Author, Rating, Review, Restaurant, Location, Score]\n",
      "Index: []\n",
      "   index          Author  Rating  \\\n",
      "0      0  Secret Moments     5.0   \n",
      "1     32           M Lee     4.0   \n",
      "2    115         Tony Ng     5.0   \n",
      "3    156        Gary Lee     5.0   \n",
      "4    184      Victor Lim     4.0   \n",
      "\n",
      "                                              Review  \\\n",
      "0  Nice foods with comfort environment in Tandoor...   \n",
      "1  Vintage banquet style restaurant, the restaura...   \n",
      "2  Great service from the staff. Celebrated birth...   \n",
      "3  As the name of their restaurant suggests..  th...   \n",
      "4  A hippie cafe concept using the basis of oldie...   \n",
      "\n",
      "                    Restaurant Location  Score  \n",
      "0                Tandoor Grill     Ipoh  212.0  \n",
      "1     Restaurant Pusing Public     Ipoh  198.0  \n",
      "2        Healy Mac's Irish Bar     Ipoh  143.0  \n",
      "3  Fish and Chips by Bareeseta     Ipoh  136.0  \n",
      "4              Burps & Giggles     Ipoh  130.0  \n"
     ]
    }
   ],
   "source": [
    "print(\"Recommend Using Linear Kernel\")\n",
    "# indices = recommendByLin('Dancing Fish')\n",
    "cityToFilter = 'Miri'\n",
    "df = recommendByLin(input(\"Enter a restaurant name: \"), False)\n",
    "print(df)"
   ]
  },
  {
   "cell_type": "code",
   "execution_count": 99,
   "id": "ebf28966",
   "metadata": {},
   "outputs": [],
   "source": [
    "# # Defining a function that takes in a restaurant name as input and outputs the restaurant that have similar reviews\n",
    "# def recommendRestaurant(restaurant, cosine_sim_matrix = cosine_sim_matrix):\n",
    "#     # index of the restaurant that matches the restaurant name\n",
    "#     idx = indices[restaurant][0]\n",
    "#     print(idx)\n",
    "#     # pairwise similarity scores of all restaurants with that restaurant\n",
    "#     similarity_scores = list(enumerate(cosine_sim_matrix[idx]))\n",
    "    \n",
    "#     # sorting the movies based on the similarity scores\n",
    "#     similarity_scores = sorted(similarity_scores, key = lambda x: x[1], reverse = True)\n",
    "    \n",
    "#     # scores of the 5 most similar restaurants\n",
    "#     similarity_scores = similarity_scores[1:6]\n",
    "    \n",
    "#     # get the restaurant index\n",
    "#     similar_restaurants_indices = [i[0] for i in similarity_scores]\n",
    "    \n",
    "#     # return the top 5 most similar restaurant\n",
    "#     return restaurants_review_data['Restaurant'].iloc[similar_restaurants_indices]"
   ]
  },
  {
   "cell_type": "code",
   "execution_count": null,
   "id": "e617e33e",
   "metadata": {},
   "outputs": [],
   "source": []
  },
  {
   "cell_type": "code",
   "execution_count": null,
   "id": "299fa118",
   "metadata": {},
   "outputs": [],
   "source": []
  },
  {
   "cell_type": "code",
   "execution_count": null,
   "id": "6c1f93da",
   "metadata": {},
   "outputs": [],
   "source": []
  },
  {
   "cell_type": "code",
   "execution_count": null,
   "id": "35a0fd61",
   "metadata": {},
   "outputs": [],
   "source": []
  },
  {
   "cell_type": "code",
   "execution_count": null,
   "id": "b62e1af4",
   "metadata": {},
   "outputs": [],
   "source": []
  },
  {
   "cell_type": "code",
   "execution_count": null,
   "id": "b673d544",
   "metadata": {},
   "outputs": [],
   "source": []
  },
  {
   "cell_type": "code",
   "execution_count": null,
   "id": "e0e7c850",
   "metadata": {},
   "outputs": [],
   "source": []
  },
  {
   "cell_type": "code",
   "execution_count": null,
   "id": "e9764df6",
   "metadata": {},
   "outputs": [],
   "source": []
  },
  {
   "cell_type": "code",
   "execution_count": null,
   "id": "280208e5",
   "metadata": {},
   "outputs": [],
   "source": []
  },
  {
   "cell_type": "code",
   "execution_count": null,
   "id": "974fd1d1",
   "metadata": {},
   "outputs": [],
   "source": []
  },
  {
   "cell_type": "code",
   "execution_count": null,
   "id": "5ff1fbc8",
   "metadata": {},
   "outputs": [],
   "source": []
  },
  {
   "cell_type": "code",
   "execution_count": null,
   "id": "4f8565e3",
   "metadata": {},
   "outputs": [],
   "source": []
  }
 ],
 "metadata": {
  "kernelspec": {
   "display_name": "Python 3 (ipykernel)",
   "language": "python",
   "name": "python3"
  },
  "language_info": {
   "codemirror_mode": {
    "name": "ipython",
    "version": 3
   },
   "file_extension": ".py",
   "mimetype": "text/x-python",
   "name": "python",
   "nbconvert_exporter": "python",
   "pygments_lexer": "ipython3",
   "version": "3.9.13"
  }
 },
 "nbformat": 4,
 "nbformat_minor": 5
}
