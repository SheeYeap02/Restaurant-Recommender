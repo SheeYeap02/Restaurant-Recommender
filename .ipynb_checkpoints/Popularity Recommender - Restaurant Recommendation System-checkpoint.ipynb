{
 "cells": [
  {
   "cell_type": "markdown",
   "id": "91010b8d",
   "metadata": {},
   "source": [
    "# Restaurant Recommendation System_\n",
    "## Prepare import"
   ]
  },
  {
   "cell_type": "code",
   "execution_count": 1,
   "id": "5607d893",
   "metadata": {},
   "outputs": [],
   "source": [
    "import numpy as np\n",
    "import pandas as pd\n",
    "import matplotlib.pyplot as plt\n",
    "import seaborn as sns\n",
    "import requests\n",
    "import warnings\n",
    "warnings.filterwarnings(\"ignore\")"
   ]
  },
  {
   "cell_type": "markdown",
   "id": "f19f7a93",
   "metadata": {},
   "source": [
    "## Load Data\n",
    "### GoogleReview\n",
    "#### View Sample, Check Null Data For Review"
   ]
  },
  {
   "cell_type": "code",
   "execution_count": 2,
   "id": "d37e3bd0",
   "metadata": {},
   "outputs": [
    {
     "name": "stdout",
     "output_type": "stream",
     "text": [
      "Review data: (222020, 5)\n",
      "\n",
      "Check NULL values in Reviews:\n",
      "-----------------------------\n",
      "Author        0\n",
      "Rating        0\n",
      "Review        0\n",
      "Restaurant    0\n",
      "Location      0\n",
      "dtype: int64\n",
      "-----------------------------\n"
     ]
    },
    {
     "data": {
      "text/html": [
       "<div>\n",
       "<style scoped>\n",
       "    .dataframe tbody tr th:only-of-type {\n",
       "        vertical-align: middle;\n",
       "    }\n",
       "\n",
       "    .dataframe tbody tr th {\n",
       "        vertical-align: top;\n",
       "    }\n",
       "\n",
       "    .dataframe thead th {\n",
       "        text-align: right;\n",
       "    }\n",
       "</style>\n",
       "<table border=\"1\" class=\"dataframe\">\n",
       "  <thead>\n",
       "    <tr style=\"text-align: right;\">\n",
       "      <th></th>\n",
       "      <th>Author</th>\n",
       "      <th>Rating</th>\n",
       "      <th>Review</th>\n",
       "      <th>Restaurant</th>\n",
       "      <th>Location</th>\n",
       "    </tr>\n",
       "  </thead>\n",
       "  <tbody>\n",
       "    <tr>\n",
       "      <th>0</th>\n",
       "      <td>Jia Pin Lee</td>\n",
       "      <td>4.0</td>\n",
       "      <td>Came here for the High Tea. Great service espe...</td>\n",
       "      <td>Cuisines Restaurant</td>\n",
       "      <td>Ipoh</td>\n",
       "    </tr>\n",
       "    <tr>\n",
       "      <th>1</th>\n",
       "      <td>Chui Yi Lum</td>\n",
       "      <td>2.0</td>\n",
       "      <td>5 stars for the service, even though some of t...</td>\n",
       "      <td>Cuisines Restaurant</td>\n",
       "      <td>Ipoh</td>\n",
       "    </tr>\n",
       "    <tr>\n",
       "      <th>2</th>\n",
       "      <td>liezel wong</td>\n",
       "      <td>1.0</td>\n",
       "      <td>Hi, thank you for your service. But! i feel so...</td>\n",
       "      <td>Cuisines Restaurant</td>\n",
       "      <td>Ipoh</td>\n",
       "    </tr>\n",
       "    <tr>\n",
       "      <th>3</th>\n",
       "      <td>Nazri Nor</td>\n",
       "      <td>1.0</td>\n",
       "      <td>I have the worse buffer dinner ever so far. Th...</td>\n",
       "      <td>Cuisines Restaurant</td>\n",
       "      <td>Ipoh</td>\n",
       "    </tr>\n",
       "    <tr>\n",
       "      <th>4</th>\n",
       "      <td>Fakru Imran's Channel</td>\n",
       "      <td>5.0</td>\n",
       "      <td>That's are Known 5 Elmark \" 9H72 \" &amp; KDK \" 3 K...</td>\n",
       "      <td>Cuisines Restaurant</td>\n",
       "      <td>Ipoh</td>\n",
       "    </tr>\n",
       "  </tbody>\n",
       "</table>\n",
       "</div>"
      ],
      "text/plain": [
       "                  Author  Rating  \\\n",
       "0            Jia Pin Lee     4.0   \n",
       "1            Chui Yi Lum     2.0   \n",
       "2            liezel wong     1.0   \n",
       "3              Nazri Nor     1.0   \n",
       "4  Fakru Imran's Channel     5.0   \n",
       "\n",
       "                                              Review           Restaurant  \\\n",
       "0  Came here for the High Tea. Great service espe...  Cuisines Restaurant   \n",
       "1  5 stars for the service, even though some of t...  Cuisines Restaurant   \n",
       "2  Hi, thank you for your service. But! i feel so...  Cuisines Restaurant   \n",
       "3  I have the worse buffer dinner ever so far. Th...  Cuisines Restaurant   \n",
       "4  That's are Known 5 Elmark \" 9H72 \" & KDK \" 3 K...  Cuisines Restaurant   \n",
       "\n",
       "  Location  \n",
       "0     Ipoh  \n",
       "1     Ipoh  \n",
       "2     Ipoh  \n",
       "3     Ipoh  \n",
       "4     Ipoh  "
      ]
     },
     "execution_count": 2,
     "metadata": {},
     "output_type": "execute_result"
    }
   ],
   "source": [
    "ratings_data = pd.read_csv('GoogleReview_data_cleaned.csv')\n",
    "ratings_data = ratings_data[['Author', 'Rating', 'Review', 'Restaurant', 'Location']]\n",
    "print(\"Review data:\", ratings_data.shape)\n",
    "print(\"\\nCheck NULL values in Reviews:\\n-----------------------------\")\n",
    "print(ratings_data.isnull().sum())\n",
    "print(\"-----------------------------\")\n",
    "ratings_data.head()"
   ]
  },
  {
   "cell_type": "code",
   "execution_count": 3,
   "id": "39da589b",
   "metadata": {},
   "outputs": [
    {
     "data": {
      "text/html": [
       "<div>\n",
       "<style scoped>\n",
       "    .dataframe tbody tr th:only-of-type {\n",
       "        vertical-align: middle;\n",
       "    }\n",
       "\n",
       "    .dataframe tbody tr th {\n",
       "        vertical-align: top;\n",
       "    }\n",
       "\n",
       "    .dataframe thead th {\n",
       "        text-align: right;\n",
       "    }\n",
       "</style>\n",
       "<table border=\"1\" class=\"dataframe\">\n",
       "  <thead>\n",
       "    <tr style=\"text-align: right;\">\n",
       "      <th></th>\n",
       "      <th>Author</th>\n",
       "      <th>Rating</th>\n",
       "      <th>Review</th>\n",
       "      <th>Restaurant</th>\n",
       "      <th>Location</th>\n",
       "    </tr>\n",
       "  </thead>\n",
       "  <tbody>\n",
       "    <tr>\n",
       "      <th>0</th>\n",
       "      <td>Jia Pin Lee</td>\n",
       "      <td>4.0</td>\n",
       "      <td>Came here for the High Tea. Great service espe...</td>\n",
       "      <td>Cuisines Restaurant</td>\n",
       "      <td>Ipoh</td>\n",
       "    </tr>\n",
       "    <tr>\n",
       "      <th>1</th>\n",
       "      <td>Chui Yi Lum</td>\n",
       "      <td>2.0</td>\n",
       "      <td>5 stars for the service, even though some of t...</td>\n",
       "      <td>Cuisines Restaurant</td>\n",
       "      <td>Ipoh</td>\n",
       "    </tr>\n",
       "    <tr>\n",
       "      <th>2</th>\n",
       "      <td>liezel wong</td>\n",
       "      <td>1.0</td>\n",
       "      <td>Hi, thank you for your service. But! i feel so...</td>\n",
       "      <td>Cuisines Restaurant</td>\n",
       "      <td>Ipoh</td>\n",
       "    </tr>\n",
       "    <tr>\n",
       "      <th>3</th>\n",
       "      <td>Nazri Nor</td>\n",
       "      <td>1.0</td>\n",
       "      <td>I have the worse buffer dinner ever so far. Th...</td>\n",
       "      <td>Cuisines Restaurant</td>\n",
       "      <td>Ipoh</td>\n",
       "    </tr>\n",
       "    <tr>\n",
       "      <th>4</th>\n",
       "      <td>Fakru Imran's Channel</td>\n",
       "      <td>5.0</td>\n",
       "      <td>That's are Known 5 Elmark \" 9H72 \" &amp; KDK \" 3 K...</td>\n",
       "      <td>Cuisines Restaurant</td>\n",
       "      <td>Ipoh</td>\n",
       "    </tr>\n",
       "  </tbody>\n",
       "</table>\n",
       "</div>"
      ],
      "text/plain": [
       "                  Author  Rating  \\\n",
       "0            Jia Pin Lee     4.0   \n",
       "1            Chui Yi Lum     2.0   \n",
       "2            liezel wong     1.0   \n",
       "3              Nazri Nor     1.0   \n",
       "4  Fakru Imran's Channel     5.0   \n",
       "\n",
       "                                              Review           Restaurant  \\\n",
       "0  Came here for the High Tea. Great service espe...  Cuisines Restaurant   \n",
       "1  5 stars for the service, even though some of t...  Cuisines Restaurant   \n",
       "2  Hi, thank you for your service. But! i feel so...  Cuisines Restaurant   \n",
       "3  I have the worse buffer dinner ever so far. Th...  Cuisines Restaurant   \n",
       "4  That's are Known 5 Elmark \" 9H72 \" & KDK \" 3 K...  Cuisines Restaurant   \n",
       "\n",
       "  Location  \n",
       "0     Ipoh  \n",
       "1     Ipoh  \n",
       "2     Ipoh  \n",
       "3     Ipoh  \n",
       "4     Ipoh  "
      ]
     },
     "execution_count": 3,
     "metadata": {},
     "output_type": "execute_result"
    }
   ],
   "source": [
    "df_data3 = ratings_data.copy()\n",
    "df_data3.head()"
   ]
  },
  {
   "cell_type": "markdown",
   "id": "c35e1fce",
   "metadata": {},
   "source": [
    "# Popularity-Based Recommendation System\n",
    "\n",
    "##### Based on RATING of Recipes by all Users"
   ]
  },
  {
   "cell_type": "markdown",
   "id": "669c1881",
   "metadata": {},
   "source": [
    "#### a. Recommend based on Popularity-Based Filtering"
   ]
  },
  {
   "cell_type": "code",
   "execution_count": 4,
   "id": "c8b4d216",
   "metadata": {},
   "outputs": [],
   "source": [
    "def search_most_trending_restaurant(dataset):\n",
    "    # A counter to initialize all the ratings based on restaurant name\n",
    "    restaurant_rating_count = pd.DataFrame(dataset.groupby(\"Restaurant\")[\"Rating\"].count().reset_index())\n",
    "    \n",
    "    # Rename the column name \n",
    "    restaurant_rating_count.rename(columns={\"Rating\":\"NumberOfVotes\"}, inplace = True)\n",
    "    \n",
    "    # An average variable for the mean number of all ratings based on restaurant name\n",
    "    restaurant_rating_average = pd.DataFrame(dataset.groupby(\"Restaurant\")[\"Rating\"].mean().reset_index())\n",
    "    \n",
    "    # Rename the column name \n",
    "    restaurant_rating_average.rename(columns = {\"Rating\":\"AverageRatings\"}, inplace = True)\n",
    "    \n",
    "    popularRestaurants = restaurant_rating_count.merge(restaurant_rating_average, on = \"Restaurant\")\n",
    "    \n",
    "    return popularRestaurants.head(20)"
   ]
  },
  {
   "cell_type": "markdown",
   "id": "6383d5b8",
   "metadata": {},
   "source": [
    "### a. User Interaction Sessions "
   ]
  },
  {
   "cell_type": "code",
   "execution_count": 5,
   "id": "bdd3d685",
   "metadata": {
    "scrolled": false
   },
   "outputs": [],
   "source": [
    "combined_rating = search_most_trending_restaurant(df_data3)"
   ]
  },
  {
   "cell_type": "code",
   "execution_count": 6,
   "id": "43125a2f",
   "metadata": {},
   "outputs": [
    {
     "data": {
      "text/html": [
       "<div>\n",
       "<style scoped>\n",
       "    .dataframe tbody tr th:only-of-type {\n",
       "        vertical-align: middle;\n",
       "    }\n",
       "\n",
       "    .dataframe tbody tr th {\n",
       "        vertical-align: top;\n",
       "    }\n",
       "\n",
       "    .dataframe thead th {\n",
       "        text-align: right;\n",
       "    }\n",
       "</style>\n",
       "<table border=\"1\" class=\"dataframe\">\n",
       "  <thead>\n",
       "    <tr style=\"text-align: right;\">\n",
       "      <th></th>\n",
       "      <th>Restaurant</th>\n",
       "      <th>NumberOfVotes</th>\n",
       "      <th>AverageRatings</th>\n",
       "    </tr>\n",
       "  </thead>\n",
       "  <tbody>\n",
       "    <tr>\n",
       "      <th>0</th>\n",
       "      <td>27@cove</td>\n",
       "      <td>53</td>\n",
       "      <td>4.735849</td>\n",
       "    </tr>\n",
       "    <tr>\n",
       "      <th>1</th>\n",
       "      <td>20 Chulia Lane Cafe</td>\n",
       "      <td>62</td>\n",
       "      <td>4.725806</td>\n",
       "    </tr>\n",
       "    <tr>\n",
       "      <th>2</th>\n",
       "      <td>718 Pizza</td>\n",
       "      <td>63</td>\n",
       "      <td>4.698413</td>\n",
       "    </tr>\n",
       "    <tr>\n",
       "      <th>3</th>\n",
       "      <td>5 Foot Way Bistro &amp; Cafe</td>\n",
       "      <td>52</td>\n",
       "      <td>4.423077</td>\n",
       "    </tr>\n",
       "    <tr>\n",
       "      <th>4</th>\n",
       "      <td>16th St. Cafe</td>\n",
       "      <td>134</td>\n",
       "      <td>4.388060</td>\n",
       "    </tr>\n",
       "    <tr>\n",
       "      <th>5</th>\n",
       "      <td>86 Cold Drink</td>\n",
       "      <td>62</td>\n",
       "      <td>4.387097</td>\n",
       "    </tr>\n",
       "    <tr>\n",
       "      <th>6</th>\n",
       "      <td>33 Blue Room</td>\n",
       "      <td>300</td>\n",
       "      <td>4.376667</td>\n",
       "    </tr>\n",
       "    <tr>\n",
       "      <th>7</th>\n",
       "      <td>218 Hainan Lor Mee</td>\n",
       "      <td>75</td>\n",
       "      <td>4.360000</td>\n",
       "    </tr>\n",
       "    <tr>\n",
       "      <th>8</th>\n",
       "      <td>A Jie Cafe</td>\n",
       "      <td>259</td>\n",
       "      <td>4.320463</td>\n",
       "    </tr>\n",
       "    <tr>\n",
       "      <th>9</th>\n",
       "      <td>1919 Restaurant Ipoh</td>\n",
       "      <td>142</td>\n",
       "      <td>4.281690</td>\n",
       "    </tr>\n",
       "    <tr>\n",
       "      <th>10</th>\n",
       "      <td>7 Spice</td>\n",
       "      <td>739</td>\n",
       "      <td>4.236806</td>\n",
       "    </tr>\n",
       "    <tr>\n",
       "      <th>11</th>\n",
       "      <td>28 Food Centre</td>\n",
       "      <td>136</td>\n",
       "      <td>4.102941</td>\n",
       "    </tr>\n",
       "    <tr>\n",
       "      <th>12</th>\n",
       "      <td>362 Heong Peah 362炭烧香饼</td>\n",
       "      <td>118</td>\n",
       "      <td>4.008475</td>\n",
       "    </tr>\n",
       "    <tr>\n",
       "      <th>13</th>\n",
       "      <td>ABC Bistro Cafe</td>\n",
       "      <td>300</td>\n",
       "      <td>3.856667</td>\n",
       "    </tr>\n",
       "    <tr>\n",
       "      <th>14</th>\n",
       "      <td>4Fingers Crispy Chicken @ Sunway Pyramid</td>\n",
       "      <td>277</td>\n",
       "      <td>3.635379</td>\n",
       "    </tr>\n",
       "  </tbody>\n",
       "</table>\n",
       "</div>"
      ],
      "text/plain": [
       "                                  Restaurant  NumberOfVotes  AverageRatings\n",
       "0                                    27@cove             53        4.735849\n",
       "1                        20 Chulia Lane Cafe             62        4.725806\n",
       "2                                  718 Pizza             63        4.698413\n",
       "3                   5 Foot Way Bistro & Cafe             52        4.423077\n",
       "4                              16th St. Cafe            134        4.388060\n",
       "5                              86 Cold Drink             62        4.387097\n",
       "6                               33 Blue Room            300        4.376667\n",
       "7                         218 Hainan Lor Mee             75        4.360000\n",
       "8                                 A Jie Cafe            259        4.320463\n",
       "9                       1919 Restaurant Ipoh            142        4.281690\n",
       "10                                   7 Spice            739        4.236806\n",
       "11                            28 Food Centre            136        4.102941\n",
       "12                    362 Heong Peah 362炭烧香饼            118        4.008475\n",
       "13                           ABC Bistro Cafe            300        3.856667\n",
       "14  4Fingers Crispy Chicken @ Sunway Pyramid            277        3.635379"
      ]
     },
     "execution_count": 6,
     "metadata": {},
     "output_type": "execute_result"
    }
   ],
   "source": [
    "# Select Restaurant with more than 50 ratings sorted in descending order by avg-ratings\n",
    "popular_restaurant = combined_rating[combined_rating['NumberOfVotes'] > 50].sort_values(by = 'AverageRatings'  , ascending= False).reset_index(drop = True).head(50)\n",
    "\n",
    "popular_restaurant.head(20)"
   ]
  },
  {
   "cell_type": "markdown",
   "id": "db7f12f1",
   "metadata": {},
   "source": [
    "#### b. Recommend based on the Highest Popularity Recommendation"
   ]
  },
  {
   "cell_type": "code",
   "execution_count": 7,
   "id": "ec2aa7a0",
   "metadata": {},
   "outputs": [],
   "source": [
    "def popularity(dataset, number):\n",
    "    number = int(number)\n",
    "    if number >= 1 and number < len(dataset):\n",
    "        data = pd.DataFrame(dataset.groupby(\"Restaurant\")[\"Rating\"].count())\n",
    "        sorted_data = data.sort_values(\"Rating\", ascending = False).head(number)\n",
    "        result = pd.merge(sorted_data, df_data3, on = \"Restaurant\")\n",
    "        return result\n",
    "    print(\"\\nInvalid number of restaurants! No restaurants will be recommended.\")"
   ]
  },
  {
   "cell_type": "markdown",
   "id": "c1296f2c",
   "metadata": {},
   "source": [
    "### b. User Interaction Sessions "
   ]
  },
  {
   "cell_type": "code",
   "execution_count": 9,
   "id": "80261282",
   "metadata": {
    "scrolled": true
   },
   "outputs": [
    {
     "name": "stdout",
     "output_type": "stream",
     "text": [
      "Welcome Sir/Madam!\n",
      "This session is about Highest Popularity Recommendation...\n",
      "----------------------------------------------------------\n",
      "NOTE: Please provide in NUMBER\n",
      "Try to enter the total number of restaurants for us to recommend for you: 15\n"
     ]
    }
   ],
   "source": [
    "print(\"Welcome Sir/Madam!\\nThis session is about Highest Popularity Recommendation...\")\n",
    "print(\"----------------------------------------------------------\")\n",
    "print(\"NOTE: Please provide in NUMBER\")\n",
    "noOfRestaurants = input(\"Try to enter the total number of restaurants for us to recommend for you: \")"
   ]
  },
  {
   "cell_type": "code",
   "execution_count": 10,
   "id": "3804f396",
   "metadata": {
    "scrolled": false
   },
   "outputs": [
    {
     "name": "stdout",
     "output_type": "stream",
     "text": [
      "Highest Popularity Recommendation\n",
      "===============================================================\n",
      "Here's the TOP 15 of Restaurants Title Recommended For You:-\n",
      "===============================================================\n",
      "1. Khan’s Indian Cuisine\n",
      "2. Plan B (Ipoh)\n",
      "3. Miker Food\n",
      "4. Ming Court Hong Kong Dim Sum 明阁香港点心\n",
      "5. Restoran Kacang Pool Haji\n",
      "6. Pak Putra Restaurant\n",
      "7. Antipodean Cafe\n",
      "8. Antipodean @ Atria\n",
      "9. Topspot Food Court\n",
      "10. Canopy Lounge Rooftop Bar KL\n",
      "11. myBurgerLab OUG\n",
      "12. Greentown Dimsum Café\n",
      "13. Ishin Japanese Dining\n",
      "14. Aliyaa\n",
      "15. Restoran Mee Rebus Ramli @ Taman Tasek Jaya\n",
      "===============================================================\n",
      "         =============================================\n"
     ]
    }
   ],
   "source": [
    "print(\"Highest Popularity Recommendation\")\n",
    "temp_data = popularity(df_data3, noOfRestaurants)\n",
    "new_data = temp_data['Restaurant'].unique()\n",
    "print(\"===============================================================\")\n",
    "print(\"Here's the TOP \" + noOfRestaurants + \" of Restaurants Title Recommended For You:-\")\n",
    "print(\"===============================================================\")\n",
    "for counter, value in enumerate(new_data):\n",
    "    print(f\"{counter + 1}. {value}\")\n",
    "print(\"===============================================================\")\n",
    "print(\"         =============================================\")"
   ]
  },
  {
   "cell_type": "markdown",
   "id": "bd93dd60",
   "metadata": {},
   "source": [
    "#### c. Recommend based on given Recipe Name For Each User"
   ]
  },
  {
   "cell_type": "code",
   "execution_count": 11,
   "id": "510cc363",
   "metadata": {},
   "outputs": [],
   "source": [
    "def showRestaurants(dataset, number):\n",
    "    restaurants = dataset[\"Restaurant\"].unique()\n",
    "    \n",
    "    for counter, value in enumerate(restaurants):\n",
    "        print(f\"{counter + 1}. {value}\")\n",
    "        \n",
    "        # To stop the row outputing based on the number retricted\n",
    "        if counter >= int(number) - 1:\n",
    "            break"
   ]
  },
  {
   "cell_type": "code",
   "execution_count": 12,
   "id": "b4e70f53",
   "metadata": {},
   "outputs": [],
   "source": [
    "def getRestaurants(dataset, restaurantName, number):\n",
    "    # Remove duplicate users\n",
    "    author = dataset[\"Author\"].unique()\n",
    "    \n",
    "    # Extract out the current restaurant name given by user\n",
    "    # As to show the other restaurant based on this name\n",
    "    match_rows = df_data3[df_data3[\"Restaurant\"] != restaurantName]\n",
    "    \n",
    "    # To get the same user\n",
    "    if author[0] in list(match_rows[\"Author\"].unique()):\n",
    "        match_rows = match_rows[match_rows[\"Author\"] == author[0]]\n",
    "    \n",
    "    # Sort the output based on rating value from top to low\n",
    "    match_rows = match_rows.sort_values(by = [\"Rating\"], ascending = False)\n",
    "    \n",
    "    # To show the output based on the desire inputted number of restaurants\n",
    "    showRestaurants(match_rows, number)"
   ]
  },
  {
   "cell_type": "markdown",
   "id": "b37ee21f",
   "metadata": {},
   "source": [
    "### c. User Interaction Sessions "
   ]
  },
  {
   "cell_type": "code",
   "execution_count": 13,
   "id": "8fdb17c9",
   "metadata": {},
   "outputs": [
    {
     "name": "stdout",
     "output_type": "stream",
     "text": [
      "Welcome Sir/Madam! This session is about:\n",
      "Different Restaurants Recommended From All Authors Based On Later Input Restaurant Name...\n",
      "-------------------------------------------------------------------------------------------\n",
      "NOTE: Restaurant NAME must be in full form\n",
      "Please provide a restaurant name: Topspot Food Court\n"
     ]
    }
   ],
   "source": [
    "print(\"Welcome Sir/Madam! This session is about:\\nDifferent Restaurants Recommended From All Authors Based On Later Input Restaurant Name...\")\n",
    "print(\"-------------------------------------------------------------------------------------------\")\n",
    "print(\"NOTE: Restaurant NAME must be in full form\")\n",
    "restaurantName = input(\"Please provide a restaurant name: \")"
   ]
  },
  {
   "cell_type": "code",
   "execution_count": 14,
   "id": "67b32acc",
   "metadata": {
    "scrolled": false
   },
   "outputs": [
    {
     "name": "stdout",
     "output_type": "stream",
     "text": [
      "Recommended Restaurants\n",
      "=================================================================\n",
      "Here's the OTHER Restaurants Name Recommended For You:-\n",
      "=================================================================\n",
      "1. BBQ KING Seafood (Jalan Song)\n",
      "2. Kedai Kopi Lai Foong\n",
      "3. Marta's Kitchen @ Hartamas\n",
      "4. Kayra Authentic Kerala Cuisine @Bangsar Village\n",
      "5. Botanica + Co at Bangsar South\n",
      "6. Milligram - Coffee & Eatery\n",
      "7. The Daily Grind Bangsar\n",
      "8. March Azalea Kitchen\n",
      "=============================================================\n",
      "        ============================================\n"
     ]
    }
   ],
   "source": [
    "if restaurantName in list(df_data3[\"Restaurant\"]):\n",
    "    print(\"Recommended Restaurants\")\n",
    "    print(\"=================================================================\")\n",
    "    print(\"Here's the OTHER Restaurants Name Recommended For You:-\")\n",
    "    print(\"=================================================================\")\n",
    "    \n",
    "    dataset = df_data3[df_data3[\"Restaurant\"] == restaurantName]\n",
    "     \n",
    "    getRestaurants(dataset, restaurantName, noOfRestaurants)\n",
    "    \n",
    "    print(\"=============================================================\")\n",
    "    print(\"        ============================================\")"
   ]
  },
  {
   "cell_type": "markdown",
   "id": "4e8fea56",
   "metadata": {},
   "source": [
    "#### d. Recommend based on given Location"
   ]
  },
  {
   "cell_type": "code",
   "execution_count": 32,
   "id": "78bbce49",
   "metadata": {},
   "outputs": [],
   "source": [
    "def searchLocation(dataset, location):\n",
    "#     location = location.lower()\n",
    "    \n",
    "    if location in dataset[\"Location\"].unique():\n",
    "        return dataset[dataset[\"Location\"] == location]\n",
    "    else:\n",
    "        print(\"Unmatched/Invalid location entered!\")"
   ]
  },
  {
   "cell_type": "markdown",
   "id": "d27d8954",
   "metadata": {},
   "source": [
    "### d. User Interaction Sessions "
   ]
  },
  {
   "cell_type": "code",
   "execution_count": 33,
   "id": "cf91f16d",
   "metadata": {},
   "outputs": [
    {
     "name": "stdout",
     "output_type": "stream",
     "text": [
      "Welcome Sir/Madam!\n",
      "This session is about Popular Restaurant Recommendation in Specific Area\n",
      "--------------------------------------------------------------------------\n",
      "NOTE: Please provide in NUMBER\n",
      "Enter a location for us to recommend popular restaurant within the area for you: KL\n"
     ]
    }
   ],
   "source": [
    "print(\"Welcome Sir/Madam!\\nThis session is about Popular Restaurant Recommendation in Specific Area\")\n",
    "print(\"--------------------------------------------------------------------------\")\n",
    "print(\"NOTE: Please provide in NUMBER\")\n",
    "location = input(\"Enter a location for us to recommend popular restaurant within the area for you: \")\n"
   ]
  },
  {
   "cell_type": "code",
   "execution_count": 34,
   "id": "36b6280a",
   "metadata": {},
   "outputs": [
    {
     "name": "stdout",
     "output_type": "stream",
     "text": [
      "Popularity Restaurant Recommended in: KL\n",
      "===============================================================\n",
      "Here's the TOP 15 of Restaurants Title Recommended For You:-\n",
      "===============================================================\n",
      "1. Canopy Lounge Rooftop Bar KL\n",
      "2. Khan’s Indian Cuisine\n",
      "3. Knowhere Bangsar\n",
      "4. Old Shanghai\n",
      "5. Marini’s on 57\n",
      "6. RSMY\n",
      "7. Antipodean @ Mid Valley\n",
      "8. Lemon Garden Cafe\n",
      "9. Halab KL\n",
      "10. Din Tai Fung 鼎泰豐 at The Gardens Mall\n",
      "11. BBQ NIGHTS\n",
      "12. Bombay Palace\n",
      "13. Mohd.Yaseem Nasi Kandar Restaurant\n",
      "14. leaf & co. cafe\n",
      "15. Positano Risto @ Publika\n",
      "===============================================================\n",
      "         =============================================\n"
     ]
    }
   ],
   "source": [
    "result_data = searchLocation(df_data3, location)\n",
    "temp_data = popularity(result_data, noOfRestaurants)\n",
    "final_data = temp_data['Restaurant'].unique()\n",
    "\n",
    "print(\"Popularity Restaurant Recommended in: \" + location)\n",
    "print(\"===============================================================\")\n",
    "print(\"Here's the TOP \" + noOfRestaurants + \" of Restaurants Title Recommended For You:-\")\n",
    "print(\"===============================================================\")\n",
    "for counter, value in enumerate(final_data):\n",
    "    print(f\"{counter + 1}. {value}\")\n",
    "print(\"===============================================================\")\n",
    "print(\"         =============================================\")"
   ]
  },
  {
   "cell_type": "markdown",
   "id": "2b113b3f",
   "metadata": {},
   "source": [
    "#### e. Recommend based on Weighted Average Ratings"
   ]
  },
  {
   "cell_type": "markdown",
   "id": "6e0057b3",
   "metadata": {},
   "source": [
    "#### A weighted average is an average in which some of the items to be averaged are 'more important' or 'less important' than some of the others. The weights are (non-negative) numbers which measure the relative importance"
   ]
  },
  {
   "cell_type": "code",
   "execution_count": 39,
   "id": "51d0b343",
   "metadata": {},
   "outputs": [],
   "source": [
    "def search_most_trending_restaurant(dataset):\n",
    "    # A counter to initialize all the ratings based on restaurant name\n",
    "    restaurant_rating_count = pd.DataFrame(dataset.groupby(\"Restaurant\")[\"Rating\"].count().reset_index())\n",
    "    \n",
    "    # Rename the column name \n",
    "    restaurant_rating_count.rename(columns={\"Rating\":\"NumberOfVotes\"}, inplace = True)\n",
    "    \n",
    "    # An average variable for the mean number of all ratings based on restaurant name\n",
    "    restaurant_rating_average = pd.DataFrame(dataset.groupby(\"Restaurant\")[\"Rating\"].mean().reset_index())\n",
    "    \n",
    "    # Rename the column name \n",
    "    restaurant_rating_average.rename(columns = {\"Rating\":\"AverageRatings\"}, inplace = True)\n",
    "    \n",
    "    popularRestaurants = restaurant_rating_count.merge(restaurant_rating_average, on = \"Restaurant\")\n",
    "    \n",
    "    # Calculate the Mean Rating\n",
    "    C = popularRestaurants[\"AverageRatings\"].mean()\n",
    "    \n",
    "    # Calculate the 90th Percentile of the number of votes\n",
    "    m = popularRestaurants[\"NumberOfVotes\"].quantile(0.90)\n",
    "\n",
    "    # Calculate Weighted Rating\n",
    "    def weighted_rate(row):\n",
    "        # Extract AverageRatings and NumberOfVotes for the current row\n",
    "        v = row[\"NumberOfVotes\"]\n",
    "        R = row[\"AverageRatings\"]    \n",
    "        \n",
    "        # Calculate the weighted rating using the given formula\n",
    "#         weight = num_votes / (num_votes + m)\n",
    "#         weighted_rating = (avg_rating * num_votes / (num_votes + m)) + (C * m / (num_votes + m))\n",
    "       \n",
    "        return ((v * R) + (m * C)) / (v + m)\n",
    "        \n",
    "    popularRestaurants = popularRestaurants[popularRestaurants[\"NumberOfVotes\"] >= 250]\n",
    "    popularRestaurants[\"Popularity\"] = popularRestaurants.apply(weighted_rate, axis = 1)\n",
    "    popularRestaurants = popularRestaurants.sort_values(by = \"Popularity\", ascending = False)\n",
    "    \n",
    "    return popularRestaurants[[\"Restaurant\", \"NumberOfVotes\", \"AverageRatings\", \"Popularity\"]].reset_index(drop = True).head(10)"
   ]
  },
  {
   "cell_type": "markdown",
   "id": "b5a18fa9",
   "metadata": {},
   "source": [
    "### e. User Interaction Sessions "
   ]
  },
  {
   "cell_type": "code",
   "execution_count": 40,
   "id": "b0f3cc50",
   "metadata": {},
   "outputs": [
    {
     "data": {
      "text/html": [
       "<div>\n",
       "<style scoped>\n",
       "    .dataframe tbody tr th:only-of-type {\n",
       "        vertical-align: middle;\n",
       "    }\n",
       "\n",
       "    .dataframe tbody tr th {\n",
       "        vertical-align: top;\n",
       "    }\n",
       "\n",
       "    .dataframe thead th {\n",
       "        text-align: right;\n",
       "    }\n",
       "</style>\n",
       "<table border=\"1\" class=\"dataframe\">\n",
       "  <thead>\n",
       "    <tr style=\"text-align: right;\">\n",
       "      <th></th>\n",
       "      <th>Restaurant</th>\n",
       "      <th>NumberOfVotes</th>\n",
       "      <th>AverageRatings</th>\n",
       "      <th>Popularity</th>\n",
       "    </tr>\n",
       "  </thead>\n",
       "  <tbody>\n",
       "    <tr>\n",
       "      <th>0</th>\n",
       "      <td>Antipodean Cafe</td>\n",
       "      <td>988</td>\n",
       "      <td>4.641700</td>\n",
       "      <td>4.519884</td>\n",
       "    </tr>\n",
       "    <tr>\n",
       "      <th>1</th>\n",
       "      <td>Dining In The Dark KL</td>\n",
       "      <td>668</td>\n",
       "      <td>4.675150</td>\n",
       "      <td>4.502697</td>\n",
       "    </tr>\n",
       "    <tr>\n",
       "      <th>2</th>\n",
       "      <td>The Baboon House</td>\n",
       "      <td>817</td>\n",
       "      <td>4.635251</td>\n",
       "      <td>4.496518</td>\n",
       "    </tr>\n",
       "    <tr>\n",
       "      <th>3</th>\n",
       "      <td>Antipodean @ Atria</td>\n",
       "      <td>971</td>\n",
       "      <td>4.611740</td>\n",
       "      <td>4.495366</td>\n",
       "    </tr>\n",
       "    <tr>\n",
       "      <th>4</th>\n",
       "      <td>Haroo Korean Restaurant</td>\n",
       "      <td>426</td>\n",
       "      <td>4.746479</td>\n",
       "      <td>4.487067</td>\n",
       "    </tr>\n",
       "    <tr>\n",
       "      <th>5</th>\n",
       "      <td>Knowhere Bangsar</td>\n",
       "      <td>650</td>\n",
       "      <td>4.609231</td>\n",
       "      <td>4.454327</td>\n",
       "    </tr>\n",
       "    <tr>\n",
       "      <th>6</th>\n",
       "      <td>The Argan Trees Restaurant-Moroccan and Medite...</td>\n",
       "      <td>296</td>\n",
       "      <td>4.793919</td>\n",
       "      <td>4.454044</td>\n",
       "    </tr>\n",
       "    <tr>\n",
       "      <th>7</th>\n",
       "      <td>Canopy Lounge Rooftop Bar KL</td>\n",
       "      <td>948</td>\n",
       "      <td>4.551688</td>\n",
       "      <td>4.447604</td>\n",
       "    </tr>\n",
       "    <tr>\n",
       "      <th>8</th>\n",
       "      <td>Cheang Kee Restaurant</td>\n",
       "      <td>423</td>\n",
       "      <td>4.678487</td>\n",
       "      <td>4.446211</td>\n",
       "    </tr>\n",
       "    <tr>\n",
       "      <th>9</th>\n",
       "      <td>AIN- ARABIA Restaurant &amp; Cafe Langkawi</td>\n",
       "      <td>258</td>\n",
       "      <td>4.821705</td>\n",
       "      <td>4.443746</td>\n",
       "    </tr>\n",
       "  </tbody>\n",
       "</table>\n",
       "</div>"
      ],
      "text/plain": [
       "                                          Restaurant  NumberOfVotes  \\\n",
       "0                                    Antipodean Cafe            988   \n",
       "1                              Dining In The Dark KL            668   \n",
       "2                                   The Baboon House            817   \n",
       "3                                 Antipodean @ Atria            971   \n",
       "4                            Haroo Korean Restaurant            426   \n",
       "5                                   Knowhere Bangsar            650   \n",
       "6  The Argan Trees Restaurant-Moroccan and Medite...            296   \n",
       "7                       Canopy Lounge Rooftop Bar KL            948   \n",
       "8                              Cheang Kee Restaurant            423   \n",
       "9             AIN- ARABIA Restaurant & Cafe Langkawi            258   \n",
       "\n",
       "   AverageRatings  Popularity  \n",
       "0        4.641700    4.519884  \n",
       "1        4.675150    4.502697  \n",
       "2        4.635251    4.496518  \n",
       "3        4.611740    4.495366  \n",
       "4        4.746479    4.487067  \n",
       "5        4.609231    4.454327  \n",
       "6        4.793919    4.454044  \n",
       "7        4.551688    4.447604  \n",
       "8        4.678487    4.446211  \n",
       "9        4.821705    4.443746  "
      ]
     },
     "execution_count": 40,
     "metadata": {},
     "output_type": "execute_result"
    }
   ],
   "source": [
    "combined_rating = search_most_trending_restaurant(df_data3)\n",
    "combined_rating"
   ]
  },
  {
   "cell_type": "code",
   "execution_count": null,
   "id": "b5f4acc1",
   "metadata": {},
   "outputs": [],
   "source": []
  }
 ],
 "metadata": {
  "kernelspec": {
   "display_name": "Python 3 (ipykernel)",
   "language": "python",
   "name": "python3"
  },
  "language_info": {
   "codemirror_mode": {
    "name": "ipython",
    "version": 3
   },
   "file_extension": ".py",
   "mimetype": "text/x-python",
   "name": "python",
   "nbconvert_exporter": "python",
   "pygments_lexer": "ipython3",
   "version": "3.9.13"
  }
 },
 "nbformat": 4,
 "nbformat_minor": 5
}
