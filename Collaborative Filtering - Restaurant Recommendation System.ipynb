{
 "cells": [
  {
   "cell_type": "markdown",
   "id": "c5823672",
   "metadata": {},
   "source": [
    "# _Restaurant Recommendation System_\n",
    "## Prepare import"
   ]
  },
  {
   "cell_type": "code",
   "execution_count": null,
   "id": "7cc6fac2",
   "metadata": {},
   "outputs": [],
   "source": [
    "import numpy as np\n",
    "import pandas as pd\n",
    "import matplotlib.pyplot as plt\n",
    "import seaborn as sns\n",
    "import requests\n",
    "import warnings\n",
    "from prettytable import PrettyTable\n",
    "from tabulate import tabulate\n",
    "warnings.filterwarnings(\"ignore\")"
   ]
  },
  {
   "cell_type": "markdown",
   "id": "fe6c2805",
   "metadata": {},
   "source": [
    "## Load Data\n",
    "### GoogleReview\n",
    "#### View Sample, Check Null Data For Review"
   ]
  },
  {
   "cell_type": "code",
   "execution_count": null,
   "id": "215db01f",
   "metadata": {},
   "outputs": [],
   "source": [
    "ratings_data = pd.read_csv('GoogleReview_data_cleaned.csv')\n",
    "ratings_data = ratings_data[['Author', 'Rating', 'Review', 'Restaurant', 'Location']]\n",
    "print(\"Review data:\", ratings_data.shape)\n",
    "print(\"\\nCheck NULL values in Reviews:\\n-----------------------------\")\n",
    "print(ratings_data.isnull().sum())\n",
    "print(\"-----------------------------\")\n",
    "ratings_data.head()"
   ]
  },
  {
   "cell_type": "code",
   "execution_count": null,
   "id": "cac6f91a",
   "metadata": {},
   "outputs": [],
   "source": [
    "df_data2 = ratings_data.copy()\n",
    "df_data2.head()"
   ]
  },
  {
   "cell_type": "markdown",
   "id": "04aac8aa",
   "metadata": {},
   "source": [
    "# Data Visualization"
   ]
  },
  {
   "cell_type": "markdown",
   "id": "25cf24bb",
   "metadata": {},
   "source": [
    "### Top 15 Number Of Ratings On Restaurants\n"
   ]
  },
  {
   "cell_type": "code",
   "execution_count": null,
   "id": "a0d9bef4",
   "metadata": {
    "scrolled": false
   },
   "outputs": [],
   "source": [
    "plt.figure(figsize = (10, 8))\n",
    "plt.title(\"TOP 15 Number of Ratings On Restaurants\", fontsize = 24)\n",
    "plt.xlabel(\"X label\", fontsize = 24)  \n",
    "plt.ylabel(\"Y label\", fontsize = 24)   \n",
    "ax = sns.countplot(y = \"Restaurant\", data = df_data2, order = df_data2['Restaurant'].value_counts().index[0:15])\n",
    "\n",
    "# Add annotations to the bars\n",
    "for p in ax.patches:\n",
    "    ax.annotate(str(p.get_width()), (p.get_width() + 10, p.get_y() + 0.5), fontsize=16)"
   ]
  },
  {
   "cell_type": "markdown",
   "id": "47e8ae2c",
   "metadata": {},
   "source": [
    "# Collaborative Filtering Recommendation System"
   ]
  },
  {
   "cell_type": "markdown",
   "id": "e37061f8",
   "metadata": {},
   "source": [
    "## 1.0 Item-based Collaborative Filtering"
   ]
  },
  {
   "cell_type": "code",
   "execution_count": null,
   "id": "fbbe9c8b",
   "metadata": {},
   "outputs": [],
   "source": [
    "# Building User-Item Interactions Matrix\n",
    "author_restaurant_matrix = df_data2.pivot_table(index = 'Author', columns = ['Restaurant'], values = 'Rating').fillna(0)\n",
    "author_restaurant_matrix.head(15)"
   ]
  },
  {
   "cell_type": "markdown",
   "id": "191fde0f",
   "metadata": {},
   "source": [
    "#### Define function for identifying Author Who Rated a Given Restaurant"
   ]
  },
  {
   "cell_type": "code",
   "execution_count": null,
   "id": "1f958726",
   "metadata": {},
   "outputs": [],
   "source": [
    "def get_Author(restaurantName):\n",
    "    author_ratings = author_restaurant_matrix[restaurantName][author_restaurant_matrix[restaurantName] > 0.0].to_frame(name='Rating')\n",
    "    return author_ratings"
   ]
  },
  {
   "cell_type": "markdown",
   "id": "10860f50",
   "metadata": {},
   "source": [
    "### User Interaction Sessions "
   ]
  },
  {
   "cell_type": "markdown",
   "id": "56b48b18",
   "metadata": {},
   "source": [
    "Sample Data:\n",
    "- 我家餐館Our Kitchen Nyonya Restaurant\n",
    "- 1919 Restaurant Ipoh\n",
    "- 心安素食斋料食馆 Xin An Vegetarian Cafe"
   ]
  },
  {
   "cell_type": "code",
   "execution_count": null,
   "id": "03bba7b7",
   "metadata": {},
   "outputs": [],
   "source": [
    "print(\"Welcome Sir/Madam!\\nThis session is about Knowing Who Rated A Given Restaurant\")\n",
    "print(\"----------------------------------------------------------\")\n",
    "print(\"NOTE: Restaurant NAME must be in full form\")\n",
    "\n",
    "restaurantName = input(\"Please provide a restaurant name: \")"
   ]
  },
  {
   "cell_type": "code",
   "execution_count": null,
   "id": "07de20cc",
   "metadata": {
    "scrolled": true
   },
   "outputs": [],
   "source": [
    "if restaurantName in list(df_data2[\"Restaurant\"]):\n",
    "    print(\"Restaurant Name: \" + restaurantName)\n",
    "    print(\"=================================================================\")\n",
    "    print(\"Here's the OTHER Author(s) Who Rated This Restaurant:-\")\n",
    "    print(\"=================================================================\")\n",
    "else: \n",
    "    print(\"No Restaurants Found...\")"
   ]
  },
  {
   "cell_type": "code",
   "execution_count": null,
   "id": "9c29cb8d",
   "metadata": {},
   "outputs": [],
   "source": [
    "# Display author listing\n",
    "authors = get_Author(restaurantName)\n",
    "print(tabulate(authors.head(10), headers = ['Author', 'Rating'], tablefmt = 'fancy_outline', floatfmt = '.1f'))"
   ]
  },
  {
   "cell_type": "markdown",
   "id": "ee84ab83",
   "metadata": {},
   "source": [
    "## 1.1 K-NN Item-based"
   ]
  },
  {
   "cell_type": "code",
   "execution_count": null,
   "id": "4a83ede7",
   "metadata": {
    "scrolled": true
   },
   "outputs": [],
   "source": [
    "# Define the index for Restaurant Name For Later Recommendation\n",
    "restaurant_author_matrix = df_data2.pivot_table(index = 'Restaurant', columns = ['Author'], values = 'Rating').fillna(0)\n",
    "restaurant_author_matrix"
   ]
  },
  {
   "cell_type": "code",
   "execution_count": null,
   "id": "1350b3af",
   "metadata": {},
   "outputs": [],
   "source": [
    "# Define Compressed Sparse Row (CSR)\n",
    "# Non-zero elements are stored in compressed row format, meaning that each row is represented by a list of the non-zero elements\n",
    "# in that row, along with their corresponding column indices.\n",
    "from scipy.sparse import csr_matrix\n",
    "\n",
    "csr_matrix_rating = csr_matrix(restaurant_author_matrix)\n",
    "csr_matrix_rating"
   ]
  },
  {
   "cell_type": "markdown",
   "id": "ea78e3f5",
   "metadata": {},
   "source": [
    "**KNN (K-Nearest Neighbors)** is a machine learning algorithm that can be used for classification or regression tasks. It finds the k-nearest neighbors of a data point based on a distance metric, and then uses those neighbors to make a prediction.\n",
    "\n",
    "When working with large datasets, it is often the case that the majority of the data is sparse, meaning that most of the values are zero. In this case, it can be more efficient to store the data in a **sparse matrix** format such as csr_matrix.\n",
    "\n",
    "**Using csr_matrix with KNN** can help to reduce the memory usage and computational time required for finding the nearest neighbors. This is because the csr_matrix format only stores the non-zero elements and their locations, which can greatly reduce the size of the data in memory."
   ]
  },
  {
   "cell_type": "code",
   "execution_count": null,
   "id": "7abe73ed",
   "metadata": {},
   "outputs": [],
   "source": [
    "# Define K-Nearest Neighbour (KNN)\n",
    "# Unsupervised machine learning algorithm used for finding the k-nearest neighbors of a given data point in a dataset. \n",
    "# It is commonly used for recommendation systems, image recognition, and anomaly detection.\n",
    "from sklearn.neighbors import NearestNeighbors\n",
    "\n",
    "KNN_Model = NearestNeighbors(metric = 'cosine', algorithm = 'brute')\n",
    "KNN_Model.fit(csr_matrix_rating)"
   ]
  },
  {
   "cell_type": "code",
   "execution_count": null,
   "id": "d3e73259",
   "metadata": {},
   "outputs": [],
   "source": [
    "def recommend(restaurant_name, k_value):\n",
    "    distances, indices = KNN_Model.kneighbors(restaurant_author_matrix[restaurant_author_matrix.index == restaurant_name].values.reshape(1,-1), n_neighbors = int(k_value) + 1)\n",
    "    x = PrettyTable()\n",
    "    x.field_names = ['No.', 'Restaurant Name', 'Distance']\n",
    "    for i in range(0, len(distances.flatten())):\n",
    "        if i == 0:\n",
    "            print(\"K-Nearest Neighbouring (KNN) Restaurant Recommendations :\")\n",
    "            print(\"=======================================================================================================\")\n",
    "            print(\"Recommendations Based On Restaurant Name: \" + restaurant_name)\n",
    "            print(\"=======================================================================================================\")\n",
    "        else:\n",
    "            name = restaurant_author_matrix.index[indices.flatten()[i]]\n",
    "            distance_points = distances.flatten()[i]\n",
    "#             print(f\"{i}: {name} \\t\\t\\t\\t, with distance of {distance_points}:\")\n",
    "            x.add_row([i, name, distance_points])\n",
    "    print(x)\n",
    "    # Exclude one from the k neighbours to get the number of the rest restaurants\n",
    "    noOfRestaurants = int(k_value)\n",
    "    print(\"=======================================================================================================\")\n",
    "    print(\"                               You've Suggested To View \" + str(noOfRestaurants) + \" of Restaurants\")\n",
    "    print(\"                =======================================================================\")"
   ]
  },
  {
   "cell_type": "markdown",
   "id": "580269ca",
   "metadata": {},
   "source": [
    "### User Interactions Section: result for K-NN Item based\n"
   ]
  },
  {
   "cell_type": "markdown",
   "id": "e9710df6",
   "metadata": {},
   "source": [
    "Sample data:\n",
    "- AQUA Restaurant & Bar\n",
    "- Ah Hua Kuey Teow\n",
    "- Ah Chui Seafood\n",
    "- Anderson Curry House\n",
    "- Amy Heritage Nyonya Cuisine"
   ]
  },
  {
   "cell_type": "code",
   "execution_count": 1,
   "id": "efbbfa3f",
   "metadata": {},
   "outputs": [
    {
     "name": "stdout",
     "output_type": "stream",
     "text": [
      "Welcome Sir/Madam!\n",
      "This session is about Restaurant Recommendation Based on K-Nearest Neighbouring (KNN)\n",
      "-------------------------------------------------------------------------------------\n",
      "NOTE: Restaurant NAME must be in full form\n",
      "Please enter the restaurant name: Ah Hua Kuey Teow\n",
      "\n",
      "NOTE: Please provide in NUMBER\n",
      "Please enter the number of restaurants (K-Value) for us to recommend to you: \n",
      "b\n",
      "Please enter an integer\n",
      "0\n",
      "Please enter positive integer only\n",
      "-1\n",
      "Please enter positive integer only\n",
      "10\n"
     ]
    }
   ],
   "source": [
    "print(\"Welcome Sir/Madam!\\nThis session is about Restaurant Recommendation Based on K-Nearest Neighbouring (KNN)\")\n",
    "print(\"-------------------------------------------------------------------------------------\")\n",
    "print(\"NOTE: Restaurant NAME must be in full form\")\n",
    "restaurant_name = input(\"Please enter the restaurant name: \")\n",
    "\n",
    "print(\"\\nNOTE: Please provide in NUMBER\")\n",
    "print(\"Please enter the number of restaurants (K-Value) for us to recommend to you: \")\n",
    "k_value = -1\n",
    "while k_value < 1:\n",
    "    try:\n",
    "        k_value = int(input())\n",
    "    except ValueError:\n",
    "        print(\"Please enter an integer\")\n",
    "        continue\n",
    "    if k_value <= 0:\n",
    "        print(\"Please enter positive integer only\")"
   ]
  },
  {
   "cell_type": "code",
   "execution_count": 2,
   "id": "7bd81667",
   "metadata": {},
   "outputs": [
    {
     "ename": "NameError",
     "evalue": "name 'recommend' is not defined",
     "output_type": "error",
     "traceback": [
      "\u001b[1;31m---------------------------------------------------------------------------\u001b[0m",
      "\u001b[1;31mNameError\u001b[0m                                 Traceback (most recent call last)",
      "\u001b[1;32m~\\AppData\\Local\\Temp\\ipykernel_3800\\4108922695.py\u001b[0m in \u001b[0;36m<module>\u001b[1;34m\u001b[0m\n\u001b[1;32m----> 1\u001b[1;33m \u001b[0mrecommend\u001b[0m\u001b[1;33m(\u001b[0m\u001b[0mrestaurant_name\u001b[0m\u001b[1;33m,\u001b[0m \u001b[0mk_value\u001b[0m\u001b[1;33m)\u001b[0m\u001b[1;33m\u001b[0m\u001b[1;33m\u001b[0m\u001b[0m\n\u001b[0m",
      "\u001b[1;31mNameError\u001b[0m: name 'recommend' is not defined"
     ]
    }
   ],
   "source": [
    "recommend(restaurant_name, k_value)"
   ]
  },
  {
   "cell_type": "markdown",
   "id": "10bd0846",
   "metadata": {},
   "source": [
    "## 1.2 Pearson Correlation Item based"
   ]
  },
  {
   "cell_type": "markdown",
   "id": "e9fc7377",
   "metadata": {},
   "source": [
    "#### Correlation Between A Selected Restaurant and All Other Restaurants"
   ]
  },
  {
   "cell_type": "markdown",
   "id": "12006eb0",
   "metadata": {},
   "source": [
    "Sample Data:\n",
    "- 我家餐館Our Kitchen Nyonya Restaurant\n",
    "- 1919 Restaurant Ipoh\n",
    "- 心安素食斋料食馆 Xin An Vegetarian Cafe"
   ]
  },
  {
   "cell_type": "code",
   "execution_count": null,
   "id": "c9961e1c",
   "metadata": {},
   "outputs": [],
   "source": [
    "print(\"Welcome Sir/Madam!\\nThis session is about Most Similar Restaurant Recommendation\")\n",
    "print(\"------------------------------------------------------------\")\n",
    "print(\"NOTE: Restaurant NAME must be in full form\")\n",
    "\n",
    "restaurant_name = input(\"Please provide a restaurant name: \")"
   ]
  },
  {
   "cell_type": "code",
   "execution_count": null,
   "id": "7e66f398",
   "metadata": {},
   "outputs": [],
   "source": [
    "def get_Author(restaurantName):\n",
    "    author_ratings = author_restaurant_matrix[restaurantName]\n",
    "    return author_ratings"
   ]
  },
  {
   "cell_type": "code",
   "execution_count": null,
   "id": "5655bd50",
   "metadata": {},
   "outputs": [],
   "source": [
    "# Use get_Author Function Defined in A Section\n",
    "author_ratings = get_Author(restaurant_name)\n",
    "print(tabulate(author_ratings.head(10).to_frame(), headers = ['Author', 'Rating'], tablefmt = 'fancy_outline', floatfmt = '.1f'))\n",
    "# author_ratings.head(10)"
   ]
  },
  {
   "cell_type": "code",
   "execution_count": null,
   "id": "d60dcf5a",
   "metadata": {
    "scrolled": false
   },
   "outputs": [],
   "source": [
    "similar_restaurants = author_restaurant_matrix.corrwith(author_ratings)\n",
    "\n",
    "# Create a dataframe with similar restaurants as the index column and name another column as correlation\n",
    "similar_restaurants = pd.DataFrame(similar_restaurants, columns = ['Correlation'])\n",
    "print(\"==========================================================================================\")\n",
    "print(\"💠Correlation-Based Recommendation Based on Restaurant: \" + restaurant_name)\n",
    "print(\"==========================================================================================\")\n",
    "\n",
    "# similar_restaurants.head(10)\n",
    "print(tabulate(similar_restaurants.head(10), headers = ['Restaurants', 'Rating'], tablefmt = 'fancy_outline'))"
   ]
  },
  {
   "cell_type": "markdown",
   "id": "9e177be6",
   "metadata": {},
   "source": [
    "### Recommending The Most Similar Restaurants"
   ]
  },
  {
   "cell_type": "code",
   "execution_count": null,
   "id": "8bba872c",
   "metadata": {},
   "outputs": [],
   "source": [
    "print(\"==========================================================================================\")\n",
    "print(\"💠Correlation-Based Recommendation Based on Restaurant: \" + restaurant_name)\n",
    "print(\"==========================================================================================\")\n",
    "\n",
    "sorted_restaurants = similar_restaurants.sort_values(by = 'Correlation', ascending = False)\n",
    "print(tabulate(sorted_restaurants[1:11], headers = ['Restaurants', 'Rating'], tablefmt = 'fancy_outline'))"
   ]
  },
  {
   "cell_type": "markdown",
   "id": "9f528225",
   "metadata": {},
   "source": [
    "For the restaurant name that is passed to the pivot table, the correlation between this restaurant and itself always 1; while other restaurants are correlated to it."
   ]
  },
  {
   "cell_type": "markdown",
   "id": "12da083c",
   "metadata": {},
   "source": [
    "### Recommending The Most Similar and Popular Restaurants\n",
    "To determine the correlation strength of a restaurant's recommendation, it is necessary to consider the number of ratings, as a higher number of ratings is indicative of greater popularity."
   ]
  },
  {
   "cell_type": "code",
   "execution_count": null,
   "id": "8f9a56e9",
   "metadata": {},
   "outputs": [],
   "source": [
    "df_rating = pd.DataFrame(df_data2.groupby('Restaurant')['Rating'].count())  \n",
    "print(\"==========================================================================================\")\n",
    "print(\"💠Correlation-Based Recommendation Based on Restaurant: \" + restaurant_name)\n",
    "print(\"==========================================================================================\")\n",
    "df_rating.head(10)\n",
    "print(tabulate(df_rating.head(10), headers = ['Restaurants', 'Rating Count'], tablefmt = 'fancy_outline'))"
   ]
  },
  {
   "cell_type": "code",
   "execution_count": 3,
   "id": "a546eb5d",
   "metadata": {},
   "outputs": [
    {
     "name": "stdout",
     "output_type": "stream",
     "text": [
      "Enter the number of recommendations you want: \n",
      "b\n",
      "Please enter an integer\n",
      "0\n",
      "Please enter positive integer only\n",
      "-1\n",
      "Please enter positive integer only\n",
      "5\n"
     ]
    },
    {
     "ename": "NameError",
     "evalue": "name 'similar_restaurants' is not defined",
     "output_type": "error",
     "traceback": [
      "\u001b[1;31m---------------------------------------------------------------------------\u001b[0m",
      "\u001b[1;31mNameError\u001b[0m                                 Traceback (most recent call last)",
      "\u001b[1;32m~\\AppData\\Local\\Temp\\ipykernel_3800\\2957779918.py\u001b[0m in \u001b[0;36m<module>\u001b[1;34m\u001b[0m\n\u001b[0;32m     10\u001b[0m     \u001b[1;32mif\u001b[0m \u001b[0mnoOfRestaurants\u001b[0m \u001b[1;33m<=\u001b[0m \u001b[1;36m0\u001b[0m\u001b[1;33m:\u001b[0m\u001b[1;33m\u001b[0m\u001b[1;33m\u001b[0m\u001b[0m\n\u001b[0;32m     11\u001b[0m         \u001b[0mprint\u001b[0m\u001b[1;33m(\u001b[0m\u001b[1;34m\"Please enter positive integer only\"\u001b[0m\u001b[1;33m)\u001b[0m\u001b[1;33m\u001b[0m\u001b[1;33m\u001b[0m\u001b[0m\n\u001b[1;32m---> 12\u001b[1;33m \u001b[0msimilar_popular_restaurants\u001b[0m \u001b[1;33m=\u001b[0m \u001b[0msimilar_restaurants\u001b[0m\u001b[1;33m.\u001b[0m\u001b[0mjoin\u001b[0m\u001b[1;33m(\u001b[0m\u001b[0mdf_rating\u001b[0m\u001b[1;33m[\u001b[0m\u001b[1;34m'Rating'\u001b[0m\u001b[1;33m]\u001b[0m\u001b[1;33m,\u001b[0m \u001b[0mon\u001b[0m \u001b[1;33m=\u001b[0m \u001b[1;34m'Restaurant'\u001b[0m\u001b[1;33m,\u001b[0m \u001b[0mhow\u001b[0m \u001b[1;33m=\u001b[0m \u001b[1;34m'left'\u001b[0m\u001b[1;33m)\u001b[0m\u001b[1;33m.\u001b[0m\u001b[0msort_values\u001b[0m\u001b[1;33m(\u001b[0m\u001b[0mby\u001b[0m \u001b[1;33m=\u001b[0m \u001b[1;34m'Correlation'\u001b[0m\u001b[1;33m,\u001b[0m \u001b[0mascending\u001b[0m \u001b[1;33m=\u001b[0m \u001b[1;32mFalse\u001b[0m\u001b[1;33m)\u001b[0m\u001b[1;33m\u001b[0m\u001b[1;33m\u001b[0m\u001b[0m\n\u001b[0m\u001b[0;32m     13\u001b[0m \u001b[0mprint\u001b[0m\u001b[1;33m(\u001b[0m\u001b[1;34m\"==========================================================================================\"\u001b[0m\u001b[1;33m)\u001b[0m\u001b[1;33m\u001b[0m\u001b[1;33m\u001b[0m\u001b[0m\n\u001b[0;32m     14\u001b[0m \u001b[0mprint\u001b[0m\u001b[1;33m(\u001b[0m\u001b[1;34m\"💠Correlation-Based Recommendation Based on Restaurant: \"\u001b[0m \u001b[1;33m+\u001b[0m \u001b[0mrestaurant_name\u001b[0m\u001b[1;33m)\u001b[0m\u001b[1;33m\u001b[0m\u001b[1;33m\u001b[0m\u001b[0m\n",
      "\u001b[1;31mNameError\u001b[0m: name 'similar_restaurants' is not defined"
     ]
    }
   ],
   "source": [
    "noOfRestaurants = -1\n",
    "print(\"Enter the number of recommendations you want: \")\n",
    "\n",
    "while noOfRestaurants < 1:\n",
    "    try:\n",
    "        noOfRestaurants = int(input())\n",
    "    except ValueError:\n",
    "        print(\"Please enter an integer\")\n",
    "        continue\n",
    "    if noOfRestaurants <= 0:\n",
    "        print(\"Please enter positive integer only\")\n",
    "similar_popular_restaurants = similar_restaurants.join(df_rating['Rating'], on = 'Restaurant', how = 'left').sort_values(by = 'Correlation', ascending = False)\n",
    "print(\"==========================================================================================\")\n",
    "print(\"💠Correlation-Based Recommendation Based on Restaurant: \" + restaurant_name)\n",
    "print(\"💠Total NUmber of Restaurants Suggested to you: \" + str(noOfRestaurants))\n",
    "print(\"==========================================================================================\")\n",
    "similar_popular_restaurants\n",
    "print(tabulate(similar_popular_restaurants.iloc[1:noOfRestaurants + 1], headers = ['Restaurants', 'Correlation Value', 'Rating Count'], tablefmt = 'fancy_outline'))"
   ]
  },
  {
   "cell_type": "markdown",
   "id": "a4a2d563",
   "metadata": {},
   "source": [
    "## User-based Collaborative Filtering \n"
   ]
  },
  {
   "cell_type": "code",
   "execution_count": null,
   "id": "6e1a700e",
   "metadata": {},
   "outputs": [],
   "source": [
    "author_restaurant_matrix = df_data2.pivot_table(index = 'Author', columns = ['Restaurant'], values = 'Rating').fillna(0)\n",
    "author_restaurant_matrix.head()"
   ]
  },
  {
   "cell_type": "code",
   "execution_count": null,
   "id": "904ef1d7",
   "metadata": {
    "scrolled": true
   },
   "outputs": [],
   "source": [
    "restaurant_author_matrix = author_restaurant_matrix.transpose()\n",
    "restaurant_author_matrix.head(10)"
   ]
  },
  {
   "cell_type": "markdown",
   "id": "b30ac355",
   "metadata": {},
   "source": [
    "# Pearson Correlation User based"
   ]
  },
  {
   "cell_type": "markdown",
   "id": "8a72563c",
   "metadata": {},
   "source": [
    "#### Recommend Based On Correlations between An Author and All Other Authors"
   ]
  },
  {
   "cell_type": "code",
   "execution_count": null,
   "id": "f212ef86",
   "metadata": {},
   "outputs": [],
   "source": [
    "restaurant_ratings = restaurant_author_matrix['Ooi Chuan Chong']\n",
    "print(tabulate(restaurant_ratings.head(10).to_frame(), headers = ['Restaurants', 'Rating'], tablefmt = 'fancy_outline', floatfmt = '.1f'))"
   ]
  },
  {
   "cell_type": "code",
   "execution_count": null,
   "id": "1ee052d0",
   "metadata": {},
   "outputs": [],
   "source": [
    "restaurant_ratings = restaurant_author_matrix['Jay Chin']\n",
    "print(tabulate(restaurant_ratings.head(10).to_frame(), headers = ['Restaurants', 'Rating'], tablefmt = 'fancy_outline', floatfmt = '.1f'))"
   ]
  },
  {
   "cell_type": "code",
   "execution_count": null,
   "id": "fd818025",
   "metadata": {
    "scrolled": true
   },
   "outputs": [],
   "source": [
    "# This is to find correlation between author based on the ratings of restaurants\n",
    "similar_authors = restaurant_author_matrix.corrwith(restaurant_ratings)\n",
    "\n",
    "# Create a dataframe with similar restaurants as the index column and correlation as another column\n",
    "similar_authors = pd.DataFrame(similar_authors, columns = ['Correlation'])\n",
    "similar_authors.head(10)\n",
    "\n",
    "print(tabulate(similar_authors.head(10), headers = ['Author', 'Correlation'], tablefmt = 'fancy_outline', floatfmt = '.6f'))"
   ]
  },
  {
   "cell_type": "markdown",
   "id": "58e5b1e2",
   "metadata": {},
   "source": [
    "### Recommending Restaurants Based on The Most Similar Author"
   ]
  },
  {
   "cell_type": "code",
   "execution_count": null,
   "id": "2089a31f",
   "metadata": {},
   "outputs": [],
   "source": [
    "# Recommending Restaurants Based on The Most Similar Authors\n",
    "most_similar_authors = similar_authors.sort_values('Correlation', ascending = False).iloc[1:11]\n",
    "most_similar_authors\n",
    "print(tabulate(most_similar_authors, headers = ['Author', 'Correlation'], tablefmt = 'fancy_outline', floatfmt = '.1f'))"
   ]
  },
  {
   "cell_type": "code",
   "execution_count": null,
   "id": "b4faab84",
   "metadata": {},
   "outputs": [],
   "source": [
    "# Extract Author of the most similar author\n",
    "authors = most_similar_authors.index.values.tolist()\n",
    "\n",
    "recommendation = df_data2[df_data2['Author'] == authors[0]]\n",
    "\n",
    "print(\"🟧 \" + authors[0])\n",
    "recommendation"
   ]
  },
  {
   "cell_type": "markdown",
   "id": "0d85f33a",
   "metadata": {},
   "source": [
    "#### b. Recommend Based On Cosine Similarity"
   ]
  },
  {
   "cell_type": "code",
   "execution_count": null,
   "id": "32b9341f",
   "metadata": {},
   "outputs": [],
   "source": [
    "# Drop authors who vote less than 50 times.\n",
    "new_data = df_data2[df_data2['Author'].map(df_data2['Author'].value_counts()) > 50] \n",
    "author_restaurant_pivot = new_data.pivot_table(index = 'Author', columns = ['Restaurant'], values = 'Rating').fillna(0)\n",
    "author_restaurant_pivot.head()"
   ]
  },
  {
   "cell_type": "code",
   "execution_count": null,
   "id": "b16e8d6b",
   "metadata": {},
   "outputs": [],
   "source": [
    "# Get the current author's favorite restaurants based on highest ratings\n",
    "def users_choice(id, noOfRestaurants):\n",
    "    users_fav = new_data[new_data[\"Author\"] == id].sort_values([\"Rating\"], ascending = False)[0:int(noOfRestaurants)]\n",
    "    return users_fav"
   ]
  },
  {
   "cell_type": "code",
   "execution_count": null,
   "id": "f236932f",
   "metadata": {},
   "outputs": [],
   "source": [
    "# Perform consine similarity matrix\n",
    "from sklearn.metrics.pairwise import cosine_similarity\n",
    "\n",
    "def user_based(new_data, id, noOfRestaurants):\n",
    "    user_recommend = []\n",
    "    \n",
    "    if id not in new_data[\"Author\"].values:\n",
    "        print(\"❌  No Such Authors Found: \" + id)       \n",
    "    else:\n",
    "        index = np.where(author_restaurant_pivot.index == id)[0][0]\n",
    "        similarity = cosine_similarity(author_restaurant_pivot)\n",
    "        similar_users = list(enumerate(similarity[index]))\n",
    "        similar_users = sorted(similar_users, key = lambda x:x[1],reverse = True)[0:noOfRestaurants]\n",
    "    \n",
    "        for i in similar_users:\n",
    "            data = df_data2[df_data2[\"Author\"] == author_restaurant_pivot.index[i[0]]]\n",
    "            user_recommend.extend(list(data.drop_duplicates(\"Author\")[\"Author\"].values))\n",
    "        \n",
    "    return user_recommend"
   ]
  },
  {
   "cell_type": "code",
   "execution_count": null,
   "id": "a09bd2aa",
   "metadata": {},
   "outputs": [],
   "source": [
    "def similar_restaurant(new_data, user, author_name, noOfRestaurants):\n",
    "    x = new_data[new_data[\"Author\"] == author_name]\n",
    "    recommend_df = []\n",
    "    \n",
    "    user = list(user)\n",
    "    \n",
    "    for i in user:\n",
    "        y = new_data[(new_data[\"Author\"] == i)]\n",
    "        restaurants = y.loc[~y[\"Restaurant\"].isin(x[\"Restaurant\"]), :]\n",
    "        restaurants = restaurants.sort_values([\"Rating\"], ascending = False)[0:5]\n",
    "        recommend_df.extend(restaurants[\"Restaurant\"].values)\n",
    "        \n",
    "    return recommend_df[0:noOfRestaurants]"
   ]
  },
  {
   "cell_type": "code",
   "execution_count": null,
   "id": "e28161c9",
   "metadata": {},
   "outputs": [],
   "source": [
    "def recommend_user_based(author_name, noOfRestaurants): \n",
    "    user_choice_df = pd.DataFrame(users_choice(author_name, noOfRestaurants))\n",
    "    \n",
    "    print(\"🟧 Author: {} \".format(author_name))\n",
    "    \n",
    "    user_based_recommendation = user_based(new_data, author_name, noOfRestaurants)\n",
    "    restaurants_for_user = similar_restaurant(new_data, user_based_recommendation, author_name, noOfRestaurants)\n",
    "    restaurant_for_user_df = pd.DataFrame(restaurants_for_user, columns = [\"Restaurant\"])\n",
    "    \n",
    "    return restaurant_for_user_df"
   ]
  },
  {
   "cell_type": "markdown",
   "id": "e3deaa26",
   "metadata": {},
   "source": [
    "### User Interaction Sessions"
   ]
  },
  {
   "cell_type": "markdown",
   "id": "75e28548",
   "metadata": {},
   "source": [
    "Sample Author Data:\n",
    "- Adrian Yong\n",
    "- William Tan\n",
    "\n",
    "Sample No Found Data:\n",
    "- Any of the value\n",
    "- GGGGGGGGGG"
   ]
  },
  {
   "cell_type": "code",
   "execution_count": null,
   "id": "bdd5c872",
   "metadata": {},
   "outputs": [
    {
     "name": "stdout",
     "output_type": "stream",
     "text": [
      "Welcome Sir/Madam!\n",
      "This session is about WHAT Recommendation On Most Similar Authors Would Also Liked\n",
      "----------------------------------------------------------------------------------\n",
      "NOTE: Author must be in full name\n",
      "Please provide an author name: b\n",
      "\n",
      "NOTE: Please provide in NUMBER\n",
      "Please enter the number of restaurants for us to recommend for you: \n",
      "0\n",
      "Please enter positive integer only\n",
      "-1\n",
      "Please enter positive integer only\n",
      "b\n",
      "Please enter an integer\n",
      "aasdsadsa\n",
      "Please enter an integer\n",
      "sbababa\n",
      "Please enter an integer\n"
     ]
    }
   ],
   "source": [
    "print(\"Welcome Sir/Madam!\\nThis session is about WHAT Recommendation On Most Similar Authors Would Also Liked\")\n",
    "print(\"----------------------------------------------------------------------------------\")\n",
    "print(\"NOTE: Author must be in full name\")\n",
    "author_name = input(\"Please provide an author name: \")\n",
    "\n",
    "print(\"\\nNOTE: Please provide in NUMBER\")\n",
    "noOfRestaurants = -1\n",
    "print(\"Please enter the number of restaurants for us to recommend for you: \")\n",
    "\n",
    "while noOfRestaurants < 1:\n",
    "    try:\n",
    "        noOfRestaurants = int(input())\n",
    "    except ValueError:\n",
    "        print(\"Please enter an integer\")\n",
    "        continue\n",
    "    if noOfRestaurants <= 0:\n",
    "        print(\"Please enter positive integer only\")"
   ]
  },
  {
   "cell_type": "code",
   "execution_count": null,
   "id": "10f17c94",
   "metadata": {},
   "outputs": [],
   "source": [
    "recommend_user_based(author_name, noOfRestaurants)"
   ]
  },
  {
   "cell_type": "code",
   "execution_count": null,
   "id": "e06ffbe7",
   "metadata": {},
   "outputs": [],
   "source": []
  }
 ],
 "metadata": {
  "kernelspec": {
   "display_name": "Python 3 (ipykernel)",
   "language": "python",
   "name": "python3"
  },
  "language_info": {
   "codemirror_mode": {
    "name": "ipython",
    "version": 3
   },
   "file_extension": ".py",
   "mimetype": "text/x-python",
   "name": "python",
   "nbconvert_exporter": "python",
   "pygments_lexer": "ipython3",
   "version": "3.9.13"
  }
 },
 "nbformat": 4,
 "nbformat_minor": 5
}
