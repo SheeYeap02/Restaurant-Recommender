{
 "cells": [
  {
   "cell_type": "markdown",
   "id": "665710c9",
   "metadata": {},
   "source": [
    "# Restaurant Recommendation System_\n",
    "## Prepare import"
   ]
  },
  {
   "cell_type": "code",
   "execution_count": 2,
   "id": "5be39798",
   "metadata": {},
   "outputs": [],
   "source": [
    "import numpy as np\n",
    "import pandas as pd\n",
    "import matplotlib.pyplot as plt\n",
    "import seaborn as sns\n",
    "import requests\n",
    "import warnings\n",
    "warnings.filterwarnings(\"ignore\")"
   ]
  },
  {
   "cell_type": "markdown",
   "id": "1d94755c",
   "metadata": {},
   "source": [
    "## Load Data\n",
    "### GoogleReview\n",
    "#### View Sample, Check Null Data For Review"
   ]
  },
  {
   "cell_type": "code",
   "execution_count": 6,
   "id": "4e8c1943",
   "metadata": {
    "scrolled": false
   },
   "outputs": [
    {
     "name": "stdout",
     "output_type": "stream",
     "text": [
      "Review data: (222020, 5)\n",
      "\n",
      "Check NULL values in Reviews:\n",
      "-----------------------------\n",
      "Author        0\n",
      "Rating        0\n",
      "Review        0\n",
      "Restaurant    0\n",
      "Location      0\n",
      "dtype: int64\n",
      "-----------------------------\n"
     ]
    },
    {
     "data": {
      "text/html": [
       "<div>\n",
       "<style scoped>\n",
       "    .dataframe tbody tr th:only-of-type {\n",
       "        vertical-align: middle;\n",
       "    }\n",
       "\n",
       "    .dataframe tbody tr th {\n",
       "        vertical-align: top;\n",
       "    }\n",
       "\n",
       "    .dataframe thead th {\n",
       "        text-align: right;\n",
       "    }\n",
       "</style>\n",
       "<table border=\"1\" class=\"dataframe\">\n",
       "  <thead>\n",
       "    <tr style=\"text-align: right;\">\n",
       "      <th></th>\n",
       "      <th>Author</th>\n",
       "      <th>Rating</th>\n",
       "      <th>Review</th>\n",
       "      <th>Restaurant</th>\n",
       "      <th>Location</th>\n",
       "    </tr>\n",
       "  </thead>\n",
       "  <tbody>\n",
       "    <tr>\n",
       "      <th>0</th>\n",
       "      <td>Jia Pin Lee</td>\n",
       "      <td>4.0</td>\n",
       "      <td>Came here for the High Tea. Great service espe...</td>\n",
       "      <td>Cuisines Restaurant</td>\n",
       "      <td>Ipoh</td>\n",
       "    </tr>\n",
       "    <tr>\n",
       "      <th>1</th>\n",
       "      <td>Chui Yi Lum</td>\n",
       "      <td>2.0</td>\n",
       "      <td>5 stars for the service, even though some of t...</td>\n",
       "      <td>Cuisines Restaurant</td>\n",
       "      <td>Ipoh</td>\n",
       "    </tr>\n",
       "    <tr>\n",
       "      <th>2</th>\n",
       "      <td>liezel wong</td>\n",
       "      <td>1.0</td>\n",
       "      <td>Hi, thank you for your service. But! i feel so...</td>\n",
       "      <td>Cuisines Restaurant</td>\n",
       "      <td>Ipoh</td>\n",
       "    </tr>\n",
       "    <tr>\n",
       "      <th>3</th>\n",
       "      <td>Nazri Nor</td>\n",
       "      <td>1.0</td>\n",
       "      <td>I have the worse buffer dinner ever so far. Th...</td>\n",
       "      <td>Cuisines Restaurant</td>\n",
       "      <td>Ipoh</td>\n",
       "    </tr>\n",
       "    <tr>\n",
       "      <th>4</th>\n",
       "      <td>Fakru Imran's Channel</td>\n",
       "      <td>5.0</td>\n",
       "      <td>That's are Known 5 Elmark \" 9H72 \" &amp; KDK \" 3 K...</td>\n",
       "      <td>Cuisines Restaurant</td>\n",
       "      <td>Ipoh</td>\n",
       "    </tr>\n",
       "  </tbody>\n",
       "</table>\n",
       "</div>"
      ],
      "text/plain": [
       "                  Author  Rating  \\\n",
       "0            Jia Pin Lee     4.0   \n",
       "1            Chui Yi Lum     2.0   \n",
       "2            liezel wong     1.0   \n",
       "3              Nazri Nor     1.0   \n",
       "4  Fakru Imran's Channel     5.0   \n",
       "\n",
       "                                              Review           Restaurant  \\\n",
       "0  Came here for the High Tea. Great service espe...  Cuisines Restaurant   \n",
       "1  5 stars for the service, even though some of t...  Cuisines Restaurant   \n",
       "2  Hi, thank you for your service. But! i feel so...  Cuisines Restaurant   \n",
       "3  I have the worse buffer dinner ever so far. Th...  Cuisines Restaurant   \n",
       "4  That's are Known 5 Elmark \" 9H72 \" & KDK \" 3 K...  Cuisines Restaurant   \n",
       "\n",
       "  Location  \n",
       "0     Ipoh  \n",
       "1     Ipoh  \n",
       "2     Ipoh  \n",
       "3     Ipoh  \n",
       "4     Ipoh  "
      ]
     },
     "execution_count": 6,
     "metadata": {},
     "output_type": "execute_result"
    }
   ],
   "source": [
    "ratings_data = pd.read_csv('GoogleReview_data_cleaned.csv')\n",
    "ratings_data = ratings_data[['Author', 'Rating', 'Review', 'Restaurant', 'Location']]\n",
    "print(\"Review data:\", ratings_data.shape)\n",
    "print(\"\\nCheck NULL values in Reviews:\\n-----------------------------\")\n",
    "print(ratings_data.isnull().sum())\n",
    "print(\"-----------------------------\")\n",
    "ratings_data.head()"
   ]
  },
  {
   "cell_type": "markdown",
   "id": "9b425e5a",
   "metadata": {},
   "source": []
  },
  {
   "cell_type": "code",
   "execution_count": null,
   "id": "d61f2b0b",
   "metadata": {},
   "outputs": [],
   "source": []
  },
  {
   "cell_type": "code",
   "execution_count": null,
   "id": "dab3d6bb",
   "metadata": {},
   "outputs": [],
   "source": []
  },
  {
   "cell_type": "code",
   "execution_count": null,
   "id": "1b6114b9",
   "metadata": {},
   "outputs": [],
   "source": []
  },
  {
   "cell_type": "code",
   "execution_count": null,
   "id": "711ac23d",
   "metadata": {},
   "outputs": [],
   "source": []
  },
  {
   "cell_type": "code",
   "execution_count": null,
   "id": "1b7c938c",
   "metadata": {},
   "outputs": [],
   "source": []
  },
  {
   "cell_type": "code",
   "execution_count": null,
   "id": "bbaf3c35",
   "metadata": {},
   "outputs": [],
   "source": []
  },
  {
   "cell_type": "code",
   "execution_count": null,
   "id": "3001b99b",
   "metadata": {},
   "outputs": [],
   "source": []
  },
  {
   "cell_type": "code",
   "execution_count": null,
   "id": "65a9afca",
   "metadata": {},
   "outputs": [],
   "source": []
  },
  {
   "cell_type": "code",
   "execution_count": null,
   "id": "ebf28966",
   "metadata": {},
   "outputs": [],
   "source": []
  },
  {
   "cell_type": "code",
   "execution_count": null,
   "id": "db98680e",
   "metadata": {},
   "outputs": [],
   "source": []
  },
  {
   "cell_type": "code",
   "execution_count": null,
   "id": "e617e33e",
   "metadata": {},
   "outputs": [],
   "source": []
  },
  {
   "cell_type": "code",
   "execution_count": null,
   "id": "299fa118",
   "metadata": {},
   "outputs": [],
   "source": []
  },
  {
   "cell_type": "code",
   "execution_count": null,
   "id": "6c1f93da",
   "metadata": {},
   "outputs": [],
   "source": []
  },
  {
   "cell_type": "code",
   "execution_count": null,
   "id": "35a0fd61",
   "metadata": {},
   "outputs": [],
   "source": []
  },
  {
   "cell_type": "code",
   "execution_count": null,
   "id": "b62e1af4",
   "metadata": {},
   "outputs": [],
   "source": []
  },
  {
   "cell_type": "code",
   "execution_count": null,
   "id": "b673d544",
   "metadata": {},
   "outputs": [],
   "source": []
  },
  {
   "cell_type": "code",
   "execution_count": null,
   "id": "e0e7c850",
   "metadata": {},
   "outputs": [],
   "source": []
  },
  {
   "cell_type": "code",
   "execution_count": null,
   "id": "e9764df6",
   "metadata": {},
   "outputs": [],
   "source": []
  },
  {
   "cell_type": "code",
   "execution_count": null,
   "id": "280208e5",
   "metadata": {},
   "outputs": [],
   "source": []
  },
  {
   "cell_type": "code",
   "execution_count": null,
   "id": "974fd1d1",
   "metadata": {},
   "outputs": [],
   "source": []
  },
  {
   "cell_type": "code",
   "execution_count": null,
   "id": "5ff1fbc8",
   "metadata": {},
   "outputs": [],
   "source": []
  },
  {
   "cell_type": "code",
   "execution_count": null,
   "id": "4f8565e3",
   "metadata": {},
   "outputs": [],
   "source": []
  }
 ],
 "metadata": {
  "kernelspec": {
   "display_name": "Python 3 (ipykernel)",
   "language": "python",
   "name": "python3"
  },
  "language_info": {
   "codemirror_mode": {
    "name": "ipython",
    "version": 3
   },
   "file_extension": ".py",
   "mimetype": "text/x-python",
   "name": "python",
   "nbconvert_exporter": "python",
   "pygments_lexer": "ipython3",
   "version": "3.9.13"
  }
 },
 "nbformat": 4,
 "nbformat_minor": 5
}
