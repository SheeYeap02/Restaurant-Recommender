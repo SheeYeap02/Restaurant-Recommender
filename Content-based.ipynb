{
 "cells": [
  {
   "cell_type": "markdown",
   "id": "665710c9",
   "metadata": {},
   "source": [
    "# Restaurant Recommendation System_\n",
    "## Prepare import"
   ]
  },
  {
   "cell_type": "code",
   "execution_count": 1,
   "id": "5be39798",
   "metadata": {},
   "outputs": [],
   "source": [
    "import numpy as np\n",
    "import pandas as pd\n",
    "from sklearn.metrics.pairwise import cosine_similarity\n",
    "from sklearn.metrics.pairwise import linear_kernel\n",
    "import matplotlib.pyplot as plt\n",
    "import warnings\n",
    "warnings.filterwarnings(\"ignore\")"
   ]
  },
  {
   "cell_type": "markdown",
   "id": "1d94755c",
   "metadata": {},
   "source": [
    "## Load Data\n",
    "### GoogleReview\n",
    "#### View Sample, Check Null Data For Review"
   ]
  },
  {
   "cell_type": "code",
   "execution_count": 2,
   "id": "4e8c1943",
   "metadata": {
    "scrolled": true
   },
   "outputs": [
    {
     "name": "stdout",
     "output_type": "stream",
     "text": [
      "Review data: (222020, 5)\n",
      "\n",
      "Check NULL values in Reviews:\n",
      "-----------------------------\n",
      "Author        0\n",
      "Rating        0\n",
      "Review        0\n",
      "Restaurant    0\n",
      "Location      0\n",
      "dtype: int64\n",
      "-----------------------------\n"
     ]
    },
    {
     "data": {
      "text/html": [
       "<div>\n",
       "<style scoped>\n",
       "    .dataframe tbody tr th:only-of-type {\n",
       "        vertical-align: middle;\n",
       "    }\n",
       "\n",
       "    .dataframe tbody tr th {\n",
       "        vertical-align: top;\n",
       "    }\n",
       "\n",
       "    .dataframe thead th {\n",
       "        text-align: right;\n",
       "    }\n",
       "</style>\n",
       "<table border=\"1\" class=\"dataframe\">\n",
       "  <thead>\n",
       "    <tr style=\"text-align: right;\">\n",
       "      <th></th>\n",
       "      <th>Author</th>\n",
       "      <th>Rating</th>\n",
       "      <th>Review</th>\n",
       "      <th>Restaurant</th>\n",
       "      <th>Location</th>\n",
       "    </tr>\n",
       "  </thead>\n",
       "  <tbody>\n",
       "    <tr>\n",
       "      <th>0</th>\n",
       "      <td>Jia Pin Lee</td>\n",
       "      <td>4.0</td>\n",
       "      <td>Came here for the High Tea. Great service espe...</td>\n",
       "      <td>Cuisines Restaurant</td>\n",
       "      <td>Ipoh</td>\n",
       "    </tr>\n",
       "    <tr>\n",
       "      <th>1</th>\n",
       "      <td>Chui Yi Lum</td>\n",
       "      <td>2.0</td>\n",
       "      <td>5 stars for the service, even though some of t...</td>\n",
       "      <td>Cuisines Restaurant</td>\n",
       "      <td>Ipoh</td>\n",
       "    </tr>\n",
       "    <tr>\n",
       "      <th>2</th>\n",
       "      <td>liezel wong</td>\n",
       "      <td>1.0</td>\n",
       "      <td>Hi, thank you for your service. But! i feel so...</td>\n",
       "      <td>Cuisines Restaurant</td>\n",
       "      <td>Ipoh</td>\n",
       "    </tr>\n",
       "    <tr>\n",
       "      <th>3</th>\n",
       "      <td>Nazri Nor</td>\n",
       "      <td>1.0</td>\n",
       "      <td>I have the worse buffer dinner ever so far. Th...</td>\n",
       "      <td>Cuisines Restaurant</td>\n",
       "      <td>Ipoh</td>\n",
       "    </tr>\n",
       "    <tr>\n",
       "      <th>4</th>\n",
       "      <td>Fakru Imran's Channel</td>\n",
       "      <td>5.0</td>\n",
       "      <td>That's are Known 5 Elmark \" 9H72 \" &amp; KDK \" 3 K...</td>\n",
       "      <td>Cuisines Restaurant</td>\n",
       "      <td>Ipoh</td>\n",
       "    </tr>\n",
       "  </tbody>\n",
       "</table>\n",
       "</div>"
      ],
      "text/plain": [
       "                  Author  Rating  \\\n",
       "0            Jia Pin Lee     4.0   \n",
       "1            Chui Yi Lum     2.0   \n",
       "2            liezel wong     1.0   \n",
       "3              Nazri Nor     1.0   \n",
       "4  Fakru Imran's Channel     5.0   \n",
       "\n",
       "                                              Review           Restaurant  \\\n",
       "0  Came here for the High Tea. Great service espe...  Cuisines Restaurant   \n",
       "1  5 stars for the service, even though some of t...  Cuisines Restaurant   \n",
       "2  Hi, thank you for your service. But! i feel so...  Cuisines Restaurant   \n",
       "3  I have the worse buffer dinner ever so far. Th...  Cuisines Restaurant   \n",
       "4  That's are Known 5 Elmark \" 9H72 \" & KDK \" 3 K...  Cuisines Restaurant   \n",
       "\n",
       "  Location  \n",
       "0     Ipoh  \n",
       "1     Ipoh  \n",
       "2     Ipoh  \n",
       "3     Ipoh  \n",
       "4     Ipoh  "
      ]
     },
     "execution_count": 2,
     "metadata": {},
     "output_type": "execute_result"
    }
   ],
   "source": [
    "restaurants_review_data = pd.read_csv('GoogleReview_data_cleaned.csv', low_memory = False)\n",
    "print(\"Review data:\", restaurants_review_data.shape)\n",
    "print(\"\\nCheck NULL values in Reviews:\\n-----------------------------\")\n",
    "print(restaurants_review_data.isnull().sum())\n",
    "print(\"-----------------------------\")\n",
    "restaurants_review_data.head()"
   ]
  },
  {
   "cell_type": "markdown",
   "id": "c43e3d58",
   "metadata": {},
   "source": [
    "## Data Preprocessing"
   ]
  },
  {
   "cell_type": "code",
   "execution_count": null,
   "id": "d61f2b0b",
   "metadata": {},
   "outputs": [],
   "source": [
    "# Consider only those author who have rated more than 10 restaurants and those restaurant which are having at least 20 ratings\n",
    "x = restaurants_review_data.groupby('Author').count()['Rating'] > 10\n",
    "quality_author  = x[x].index\n",
    "\n",
    "restaurants_review_data = restaurants_review_data[restaurants_review_data['Author'].isin(quality_author)]\n",
    "\n",
    "y = restaurants_review_data.groupby('Restaurant')['Rating'].count() >= 20\n",
    "famous_restaurants = y[y].index\n",
    "\n",
    "restaurants_review_data = restaurants_review_data[restaurants_review_data['Restaurant'].isin(famous_restaurants)]\n",
    "\n",
    "# due to we filter out the author who only have rated more than 10 restaurants and those restaurant which \n",
    "restaurants_review_data = restaurants_review_data.reset_index()\n",
    "# drop index column, axis = 0 indicates rows, 1 indicates columns\n",
    "restaurants_review_data = restaurants_review_data.drop(['index'], axis=1)\n",
    "restaurants_review_data.shape\n",
    "\n",
    "# Get the restaurants in this dataset without duplicates\n",
    "restaurants_data = restaurants_review_data.drop_duplicates(subset=['Restaurant'])\n",
    "# no. of restaurants = 420\n",
    "restaurants_data = restaurants_data.reset_index() \n",
    "\n",
    "# print()\n",
    "\n",
    "# Get the authors in this dataset without duplicates\n",
    "authors_data = restaurants_review_data.drop_duplicates(subset=['Author'])\n",
    "# No. of authors in this dataset = 253\n",
    "authors_data.shape\n"
   ]
  },
  {
   "cell_type": "markdown",
   "id": "df7c2bfb",
   "metadata": {},
   "source": [
    "## Data Visualization"
   ]
  },
  {
   "cell_type": "code",
   "execution_count": null,
   "id": "9d504c99",
   "metadata": {},
   "outputs": [],
   "source": [
    "state_counts = restaurants_data.groupby('Location')['Restaurant'].count()\n",
    "state_counts.plot(kind='bar', figsize = (10, 8))\n",
    "plt.title('Number of Restaurant(s) by City', fontsize = 20)\n",
    "plt.xlabel('City', fontsize = 17)\n",
    "plt.ylabel('Number of Restaurants(s)', fontsize = 17)\n",
    "for i in range(len(state_counts)):\n",
    "    plt.text(x=i, y = state_counts.iloc[i], s = state_counts.iloc[i], ha = 'center', fontsize = 15)\n",
    "plt.show()"
   ]
  },
  {
   "cell_type": "code",
   "execution_count": null,
   "id": "6152279f",
   "metadata": {},
   "outputs": [],
   "source": [
    "# use pivot_table because in our datasets, a restaurant have multiple ratings, so we cannot just calculate similarity scores based on the restaurants_review_data\n",
    "pt = restaurants_review_data.pivot_table(index = 'Restaurant', columns = 'Author', values = 'Rating').fillna(0)\n",
    "\n",
    "# index = 'Restaurant' columns = 'Author' --> this is the average rating given to each restaurant by the authors\n",
    "# index = 'Author' columns = 'Restaurant' --> this is the average rating given by the authors to each restaurant (the average rating of an author given to all restaurants)"
   ]
  },
  {
   "cell_type": "code",
   "execution_count": null,
   "id": "dab3d6bb",
   "metadata": {},
   "outputs": [],
   "source": [
    "# Using cosine similarity metrics\n",
    "similarity_scores_cs = cosine_similarity(pt)\n",
    "\n",
    "def recommendByCos(restaurantName, isFilter):\n",
    "    index = np.where(pt.index == restaurantName)[0][0]\n",
    "    similar_restaurants = sorted(enumerate(similarity_scores_cs[index]),key= lambda x: x[1], reverse =True)[1:]\n",
    "    \n",
    "    newData = restaurants_data.copy()\n",
    "    newData['Score'] = np.nan\n",
    "    \n",
    "    for a, i in enumerate(similar_restaurants):\n",
    "        newData.loc[newData['Restaurant'] == pt.index[i[0]], 'Score'] = similar_restaurants[a][1]\n",
    "        \n",
    "    newData = newData.sort_values('Score', ascending = False)\n",
    "    \n",
    "    if isFilter == False:\n",
    "        return newData[:numberOfSuggestion]\n",
    "    else:\n",
    "        newData = newData[newData['Location'] == cityToFilter]\n",
    "        for idx, row in newData.iterrows():\n",
    "            if row['Score'] == 0.0:\n",
    "                newData = newData.drop(idx)\n",
    "\n",
    "        return newData"
   ]
  },
  {
   "cell_type": "code",
   "execution_count": null,
   "id": "54e6921d",
   "metadata": {},
   "outputs": [],
   "source": [
    "print(\"Recommend Using Linear Kernel\")\n",
    "restaurant = input('Enter a restaurant name: ')\n",
    "numberOfSuggestion = None\n",
    "prompt = input('Do you want the recommendations based on city?(y/n)')\n",
    "if prompt == 'y': \n",
    "    cityToFilter = input('Enter a city (KL/Petaling Jaya/Miri/Ipoh): ')\n",
    "    restaurants = recommendByCos(restaurant, True)\n",
    "    num_rows, num_cols = restaurants.shape\n",
    "else: \n",
    "    numberOfSuggestion = int(input('Enter the number of recommendations you want: '))\n",
    "    restaurants = recommendByCos(restaurant, False)\n",
    "    num_rows, num_cols = restaurants.shape\n",
    "    \n",
    "if num_rows == 0:\n",
    "    print('There is no recommend restaurants from the city you provided')\n",
    "else:\n",
    "    print(restaurants)"
   ]
  },
  {
   "cell_type": "code",
   "execution_count": null,
   "id": "1b6114b9",
   "metadata": {},
   "outputs": [],
   "source": [
    "similarity_scores_lk = linear_kernel(pt)\n",
    "\n",
    "def recommendByLin(restaurantName, isFilter):\n",
    "    index = np.where(pt.index== restaurantName)[0][0]\n",
    "    similar_restaurants = sorted(enumerate(similarity_scores_lk[index]), key = lambda x: x[1], reverse = True)[1:]\n",
    "    \n",
    "    newData = restaurants_data.copy()\n",
    "    newData['Score'] = np.nan\n",
    "    \n",
    "    for a, i in enumerate(similar_restaurants):\n",
    "        newData.loc[newData['Restaurant'] == pt.index[i[0]], 'Score'] = similar_restaurants[a][1]\n",
    "        \n",
    "    newData = newData.sort_values('Score', ascending = False)\n",
    "    \n",
    "    if isFilter == False:\n",
    "        return newData[:numberOfSuggestion]\n",
    "    else:\n",
    "        newData = newData[newData['Location'] == cityToFilter]\n",
    "        for idx, row in newData.iterrows():\n",
    "            if row['Score'] == 0.0:\n",
    "                newData = newData.drop(idx)\n",
    "\n",
    "        return newData"
   ]
  },
  {
   "cell_type": "code",
   "execution_count": null,
   "id": "6c726322",
   "metadata": {},
   "outputs": [],
   "source": [
    "# # A function for retrieving the restaurant info from the restaurants_data dataframe\n",
    "# def retrieveRestaurant(dataframe):\n",
    "#     recommendedRestaurant = dataframe\n",
    "#     restaurants = pd.DataFrame(columns=['Author', 'Rating', 'Review', 'Restaurant', 'Location'])\n",
    "#     for i in range(len(recommendedRestaurant)):\n",
    "#         restaurants = restaurants.append(restaurants_data[restaurants_data['Restaurant'] == recommendedRestaurant[i]], ignore_index = True)\n",
    "#     return restaurants"
   ]
  },
  {
   "cell_type": "code",
   "execution_count": null,
   "id": "bbaf3c35",
   "metadata": {
    "scrolled": true
   },
   "outputs": [],
   "source": [
    "print(\"Recommend Using Linear Kernel\")\n",
    "restaurant = input('Enter a restaurant name: ')\n",
    "numberOfSuggestion = None\n",
    "prompt = input('Do you want the recommendations based on city?(y/n)')\n",
    "if prompt == 'y': \n",
    "    cityToFilter = input('Enter a city (KL/Petaling Jaya/Miri/Ipoh): ')\n",
    "    restaurants = recommendByLin(restaurant, True)\n",
    "    num_rows, num_cols = restaurants.shape\n",
    "else: \n",
    "    numberOfSuggestion = int(input('Enter the number of recommendations you want: '))\n",
    "    restaurants = recommendByLin(restaurant, False)\n",
    "    num_rows, num_cols = restaurants.shape\n",
    "    \n",
    "if num_rows == 0:\n",
    "    print('There is no recommend restaurants from the city you provided')\n",
    "else:\n",
    "    print(restaurants)"
   ]
  },
  {
   "cell_type": "code",
   "execution_count": null,
   "id": "e617e33e",
   "metadata": {},
   "outputs": [],
   "source": []
  },
  {
   "cell_type": "code",
   "execution_count": null,
   "id": "299fa118",
   "metadata": {},
   "outputs": [],
   "source": []
  },
  {
   "cell_type": "code",
   "execution_count": null,
   "id": "6c1f93da",
   "metadata": {},
   "outputs": [],
   "source": []
  },
  {
   "cell_type": "code",
   "execution_count": null,
   "id": "35a0fd61",
   "metadata": {},
   "outputs": [],
   "source": []
  },
  {
   "cell_type": "code",
   "execution_count": null,
   "id": "b62e1af4",
   "metadata": {},
   "outputs": [],
   "source": []
  },
  {
   "cell_type": "code",
   "execution_count": null,
   "id": "b673d544",
   "metadata": {},
   "outputs": [],
   "source": []
  },
  {
   "cell_type": "code",
   "execution_count": null,
   "id": "e0e7c850",
   "metadata": {},
   "outputs": [],
   "source": []
  },
  {
   "cell_type": "code",
   "execution_count": null,
   "id": "e9764df6",
   "metadata": {},
   "outputs": [],
   "source": []
  },
  {
   "cell_type": "code",
   "execution_count": null,
   "id": "280208e5",
   "metadata": {},
   "outputs": [],
   "source": []
  },
  {
   "cell_type": "code",
   "execution_count": null,
   "id": "974fd1d1",
   "metadata": {},
   "outputs": [],
   "source": []
  },
  {
   "cell_type": "code",
   "execution_count": null,
   "id": "5ff1fbc8",
   "metadata": {},
   "outputs": [],
   "source": []
  },
  {
   "cell_type": "code",
   "execution_count": null,
   "id": "4f8565e3",
   "metadata": {},
   "outputs": [],
   "source": []
  }
 ],
 "metadata": {
  "kernelspec": {
   "display_name": "Python 3 (ipykernel)",
   "language": "python",
   "name": "python3"
  },
  "language_info": {
   "codemirror_mode": {
    "name": "ipython",
    "version": 3
   },
   "file_extension": ".py",
   "mimetype": "text/x-python",
   "name": "python",
   "nbconvert_exporter": "python",
   "pygments_lexer": "ipython3",
   "version": "3.9.13"
  }
 },
 "nbformat": 4,
 "nbformat_minor": 5
}
